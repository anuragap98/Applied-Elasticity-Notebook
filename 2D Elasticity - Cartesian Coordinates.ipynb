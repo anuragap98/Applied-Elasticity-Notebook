{
 "cells": [
  {
   "cell_type": "code",
   "execution_count": 1,
   "metadata": {},
   "outputs": [],
   "source": [
    "from sympy import *\n",
    "x, y = symbols('x, y')"
   ]
  },
  {
   "cell_type": "code",
   "execution_count": 2,
   "metadata": {
    "scrolled": true
   },
   "outputs": [
    {
     "data": {
      "text/latex": [
       "$\\displaystyle 2 x + 3 y = 8$"
      ],
      "text/plain": [
       "Eq(2*x + 3*y, 8)"
      ]
     },
     "metadata": {},
     "output_type": "display_data"
    },
    {
     "data": {
      "text/latex": [
       "$\\displaystyle 3 x + y = 5$"
      ],
      "text/plain": [
       "Eq(3*x + y, 5)"
      ]
     },
     "metadata": {},
     "output_type": "display_data"
    }
   ],
   "source": [
    "eq1 = Eq(2*x+3*y,8)\n",
    "eq2 = Eq(3*x+y,5)\n",
    "display(eq1, eq2)"
   ]
  },
  {
   "cell_type": "code",
   "execution_count": 3,
   "metadata": {
    "scrolled": true
   },
   "outputs": [
    {
     "data": {
      "text/latex": [
       "$\\displaystyle \\left( 1, \\  2\\right)$"
      ],
      "text/plain": [
       "(1, 2)"
      ]
     },
     "metadata": {},
     "output_type": "display_data"
    },
    {
     "data": {
      "text/latex": [
       "$\\displaystyle 1$"
      ],
      "text/plain": [
       "1"
      ]
     },
     "metadata": {},
     "output_type": "display_data"
    },
    {
     "data": {
      "text/latex": [
       "$\\displaystyle 2$"
      ],
      "text/plain": [
       "2"
      ]
     },
     "metadata": {},
     "output_type": "display_data"
    }
   ],
   "source": [
    "sol, = linsolve([eq1,eq2],[x,y])\n",
    "display(sol)\n",
    "display(sol[0],sol[1])"
   ]
  },
  {
   "cell_type": "code",
   "execution_count": 4,
   "metadata": {},
   "outputs": [
    {
     "data": {
      "text/latex": [
       "$\\displaystyle x = 1$"
      ],
      "text/plain": [
       "<IPython.core.display.Math object>"
      ]
     },
     "metadata": {},
     "output_type": "display_data"
    },
    {
     "data": {
      "text/latex": [
       "$\\displaystyle y = 2$"
      ],
      "text/plain": [
       "<IPython.core.display.Math object>"
      ]
     },
     "metadata": {},
     "output_type": "display_data"
    }
   ],
   "source": [
    "from IPython.display import Math, Latex\n",
    "\n",
    "display(Math(r'$x = {}$'.format(latex(sol[0]))))\n",
    "display(Math(r'$y = {}$'.format(latex(sol[1]))))"
   ]
  },
  {
   "cell_type": "code",
   "execution_count": 5,
   "metadata": {},
   "outputs": [
    {
     "data": {
      "text/latex": [
       "$\\displaystyle 2 \\left(y + 1\\right)$"
      ],
      "text/plain": [
       "2*(y + 1)"
      ]
     },
     "execution_count": 5,
     "metadata": {},
     "output_type": "execute_result"
    }
   ],
   "source": [
    "f = x**2 + x**2*y\n",
    "diff(f,(x,2))"
   ]
  },
  {
   "cell_type": "code",
   "execution_count": 6,
   "metadata": {},
   "outputs": [],
   "source": [
    "def laplacian(f):\n",
    "    return diff(f,(x,2)) + diff(f,(y,2))"
   ]
  },
  {
   "cell_type": "code",
   "execution_count": 7,
   "metadata": {},
   "outputs": [
    {
     "data": {
      "text/latex": [
       "$\\displaystyle 4$"
      ],
      "text/plain": [
       "4"
      ]
     },
     "execution_count": 7,
     "metadata": {},
     "output_type": "execute_result"
    }
   ],
   "source": [
    "h1 = x**2+y**2\n",
    "laplacian(h1)"
   ]
  },
  {
   "cell_type": "markdown",
   "metadata": {},
   "source": [
    "- Next, we use the fact that $\\nabla^4 f = \\nabla^2 (\\nabla^2 f)$ to define the `biharmonic` operator using the already defined `Laplacian` operator."
   ]
  },
  {
   "cell_type": "code",
   "execution_count": 8,
   "metadata": {},
   "outputs": [],
   "source": [
    "def biharmonic(f):\n",
    "    return laplacian(laplacian(f))"
   ]
  },
  {
   "cell_type": "code",
   "execution_count": 9,
   "metadata": {},
   "outputs": [
    {
     "data": {
      "text/latex": [
       "$\\displaystyle 48$"
      ],
      "text/plain": [
       "48"
      ]
     },
     "execution_count": 9,
     "metadata": {},
     "output_type": "execute_result"
    }
   ],
   "source": [
    "h2 = x**4 + y**4\n",
    "biharmonic(h2)"
   ]
  },
  {
   "cell_type": "code",
   "execution_count": 10,
   "metadata": {},
   "outputs": [
    {
     "data": {
      "text/latex": [
       "$\\displaystyle \\phi$"
      ],
      "text/plain": [
       "phi"
      ]
     },
     "metadata": {},
     "output_type": "display_data"
    },
    {
     "data": {
      "text/latex": [
       "$\\displaystyle \\varphi$"
      ],
      "text/plain": [
       "varphi"
      ]
     },
     "metadata": {},
     "output_type": "display_data"
    },
    {
     "data": {
      "text/latex": [
       "$\\displaystyle \\varphi{\\left(x,y \\right)}$"
      ],
      "text/plain": [
       "varphi(x, y)"
      ]
     },
     "metadata": {},
     "output_type": "display_data"
    }
   ],
   "source": [
    "display(symbols('phi'))\n",
    "display(symbols('varphi'))\n",
    "# We want varphi as a function of (x,y)\n",
    "varphi = Function('varphi')(x,y)\n",
    "display(varphi)"
   ]
  },
  {
   "cell_type": "code",
   "execution_count": 11,
   "metadata": {},
   "outputs": [
    {
     "data": {
      "text/latex": [
       "$\\displaystyle \\frac{\\partial^{2}}{\\partial x^{2}} \\varphi{\\left(x,y \\right)} + \\frac{\\partial^{2}}{\\partial y^{2}} \\varphi{\\left(x,y \\right)}$"
      ],
      "text/plain": [
       "Derivative(varphi(x, y), (x, 2)) + Derivative(varphi(x, y), (y, 2))"
      ]
     },
     "execution_count": 11,
     "metadata": {},
     "output_type": "execute_result"
    }
   ],
   "source": [
    "laplacian(varphi)"
   ]
  },
  {
   "cell_type": "code",
   "execution_count": 12,
   "metadata": {},
   "outputs": [
    {
     "data": {
      "text/latex": [
       "$\\displaystyle \\frac{\\partial^{4}}{\\partial x^{4}} \\varphi{\\left(x,y \\right)} + \\frac{\\partial^{4}}{\\partial y^{4}} \\varphi{\\left(x,y \\right)} + 2 \\frac{\\partial^{4}}{\\partial y^{2}\\partial x^{2}} \\varphi{\\left(x,y \\right)}$"
      ],
      "text/plain": [
       "Derivative(varphi(x, y), (x, 4)) + Derivative(varphi(x, y), (y, 4)) + 2*Derivative(varphi(x, y), (x, 2), (y, 2))"
      ]
     },
     "execution_count": 12,
     "metadata": {},
     "output_type": "execute_result"
    }
   ],
   "source": [
    "biharmonic(varphi)"
   ]
  },
  {
   "cell_type": "markdown",
   "metadata": {},
   "source": [
    "- Let assume an 3rd degree poolynomial solution for $\\varphi(x,y)$."
   ]
  },
  {
   "cell_type": "code",
   "execution_count": 13,
   "metadata": {},
   "outputs": [
    {
     "data": {
      "text/latex": [
       "$\\displaystyle A_{20}$"
      ],
      "text/plain": [
       "A_20"
      ]
     },
     "metadata": {},
     "output_type": "display_data"
    },
    {
     "data": {
      "text/latex": [
       "$\\displaystyle A_{11}$"
      ],
      "text/plain": [
       "A_11"
      ]
     },
     "metadata": {},
     "output_type": "display_data"
    },
    {
     "data": {
      "text/latex": [
       "$\\displaystyle A_{02}$"
      ],
      "text/plain": [
       "A_02"
      ]
     },
     "metadata": {},
     "output_type": "display_data"
    },
    {
     "data": {
      "text/latex": [
       "$\\displaystyle \\varphi(x,y) = A_{02} y^{2} + A_{11} x y + A_{20} x^{2}$"
      ],
      "text/plain": [
       "<IPython.core.display.Math object>"
      ]
     },
     "metadata": {},
     "output_type": "display_data"
    }
   ],
   "source": [
    "A20, A11, A02 = symbols('A_20, A_11, A_02')\n",
    "display(A20, A11, A02)\n",
    "\n",
    "varphi = A20*x**2 + A11*x*y + A02*y**2\n",
    "display(Math(r'$\\varphi(x,y) = {}$'.format(latex(varphi))))"
   ]
  },
  {
   "cell_type": "markdown",
   "metadata": {},
   "source": [
    "We now obtain stress fields using:\n",
    "\\begin{align*}\n",
    "\\sigma_{xx} &= \\frac{\\partial^2 \\varphi}{\\partial y^2},\\\\\n",
    "\\sigma_{yy} &= \\frac{\\partial^2 \\varphi}{\\partial x^2},\\\\\n",
    "\\sigma_{xy} &= -\\frac{\\partial^2 \\varphi}{\\partial x \\partial y}\n",
    "\\end{align*}"
   ]
  },
  {
   "cell_type": "code",
   "execution_count": 14,
   "metadata": {},
   "outputs": [
    {
     "data": {
      "text/latex": [
       "$\\displaystyle 2 A_{02}$"
      ],
      "text/plain": [
       "2*A_02"
      ]
     },
     "metadata": {},
     "output_type": "display_data"
    },
    {
     "data": {
      "text/latex": [
       "$\\displaystyle 2 A_{20}$"
      ],
      "text/plain": [
       "2*A_20"
      ]
     },
     "metadata": {},
     "output_type": "display_data"
    },
    {
     "data": {
      "text/latex": [
       "$\\displaystyle - A_{11}$"
      ],
      "text/plain": [
       "-A_11"
      ]
     },
     "metadata": {},
     "output_type": "display_data"
    }
   ],
   "source": [
    "sigmaxx = diff(varphi,(y,2))\n",
    "sigmayy = diff(varphi,(x,2))\n",
    "sigmaxy = -diff(varphi,x,y)\n",
    "display(sigmaxx, sigmayy, sigmaxy)"
   ]
  },
  {
   "cell_type": "markdown",
   "metadata": {},
   "source": [
    "- Let assume an 5th degree poolynomial solution for $\\varphi(x,y)$."
   ]
  },
  {
   "cell_type": "code",
   "execution_count": 15,
   "metadata": {},
   "outputs": [
    {
     "data": {
      "text/latex": [
       "$\\displaystyle \\varphi(x,y) = A_{05} y^{5} + A_{14} x y^{4} + A_{23} x^{2} y^{3} + A_{32} x^{3} y^{2} + A_{41} x^{4} y + A_{50} x^{5}$"
      ],
      "text/plain": [
       "<IPython.core.display.Math object>"
      ]
     },
     "metadata": {},
     "output_type": "display_data"
    }
   ],
   "source": [
    "A50, A41, A32, A23, A14, A05 = symbols('A_50, A_41, A_32, A_23, A_14, A_05')\n",
    "varphi = A50*x**5 + A41*x**4*y + A32*x**3*y**2 + A23*x**2*y**3 + A14*x*y**4 + A05*y**5\n",
    "display(Math(r'$\\varphi(x,y) = {}$'.format(latex(varphi))))"
   ]
  },
  {
   "cell_type": "markdown",
   "metadata": {},
   "source": [
    "Before proceeding further, we want to check what happens with the biharmonic equation. Becoz we note that we must find the conditions under which the given `Airy Stress Function` satisfiy the `biharmonic` function."
   ]
  },
  {
   "cell_type": "code",
   "execution_count": 17,
   "metadata": {},
   "outputs": [
    {
     "data": {
      "text/latex": [
       "$\\displaystyle 120 A_{05} y + 24 A_{14} x + 24 A_{23} y + 24 A_{32} x + 24 A_{41} y + 120 A_{50} x$"
      ],
      "text/plain": [
       "120*A_05*y + 24*A_14*x + 24*A_23*y + 24*A_32*x + 24*A_41*y + 120*A_50*x"
      ]
     },
     "execution_count": 17,
     "metadata": {},
     "output_type": "execute_result"
    }
   ],
   "source": [
    "biharmonic(varphi).expand()"
   ]
  },
  {
   "cell_type": "markdown",
   "metadata": {},
   "source": [
    "The conditions which need to satisfy is $\\nabla^4 \\varphi = 0$, only if the individual coefficents of $x, y$ in the equations are set to `Zero`."
   ]
  },
  {
   "cell_type": "code",
   "execution_count": 18,
   "metadata": {},
   "outputs": [
    {
     "data": {
      "text/latex": [
       "$\\displaystyle 24 A_{14} + 24 A_{32} + 120 A_{50}$"
      ],
      "text/plain": [
       "24*A_14 + 24*A_32 + 120*A_50"
      ]
     },
     "execution_count": 18,
     "metadata": {},
     "output_type": "execute_result"
    }
   ],
   "source": [
    "(biharmonic(varphi)).expand().coeff(x)"
   ]
  },
  {
   "cell_type": "code",
   "execution_count": 19,
   "metadata": {},
   "outputs": [
    {
     "data": {
      "text/latex": [
       "$\\displaystyle 120 A_{05} + 24 A_{23} + 24 A_{41}$"
      ],
      "text/plain": [
       "120*A_05 + 24*A_23 + 24*A_41"
      ]
     },
     "execution_count": 19,
     "metadata": {},
     "output_type": "execute_result"
    }
   ],
   "source": [
    "(biharmonic(varphi)).expand().coeff(y)"
   ]
  },
  {
   "cell_type": "code",
   "execution_count": 23,
   "metadata": {},
   "outputs": [
    {
     "data": {
      "text/latex": [
       "$\\displaystyle \\frac{x^{2} y^{2}}{2}$"
      ],
      "text/plain": [
       "x**2*y**2/2"
      ]
     },
     "execution_count": 23,
     "metadata": {},
     "output_type": "execute_result"
    }
   ],
   "source": [
    "integrate(x**2*y, y)"
   ]
  },
  {
   "cell_type": "code",
   "execution_count": 24,
   "metadata": {},
   "outputs": [
    {
     "data": {
      "text/latex": [
       "$\\displaystyle p_\\mathrm{in}$"
      ],
      "text/plain": [
       "p_\\mathrm{in}"
      ]
     },
     "metadata": {},
     "output_type": "display_data"
    },
    {
     "data": {
      "text/latex": [
       "$\\displaystyle p_\\mathrm{out}$"
      ],
      "text/plain": [
       "p_\\mathrm{out}"
      ]
     },
     "metadata": {},
     "output_type": "display_data"
    }
   ],
   "source": [
    "pin, pout = symbols(r'p_\\mathrm{in}, p_\\mathrm{out}')\n",
    "display(pin, pout)"
   ]
  }
 ],
 "metadata": {
  "kernelspec": {
   "display_name": "Python 3",
   "language": "python",
   "name": "python3"
  },
  "language_info": {
   "codemirror_mode": {
    "name": "ipython",
    "version": 3
   },
   "file_extension": ".py",
   "mimetype": "text/x-python",
   "name": "python",
   "nbconvert_exporter": "python",
   "pygments_lexer": "ipython3",
   "version": "3.7.3"
  }
 },
 "nbformat": 4,
 "nbformat_minor": 2
}
