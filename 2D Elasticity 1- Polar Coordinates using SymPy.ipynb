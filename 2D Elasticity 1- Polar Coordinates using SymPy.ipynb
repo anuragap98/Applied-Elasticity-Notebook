{
 "cells": [
  {
   "cell_type": "code",
   "execution_count": 9,
   "metadata": {
    "scrolled": true
   },
   "outputs": [
    {
     "data": {
      "image/jpeg": "[encoded data removed]",
      "text/html": [
       "\n",
       "        <iframe\n",
       "            width=\"400\"\n",
       "            height=\"300\"\n",
       "            src=\"https://www.youtube.com/embed/FziVGXIzxKo\"\n",
       "            frameborder=\"0\"\n",
       "            allowfullscreen\n",
       "        ></iframe>\n",
       "        "
      ],
      "text/plain": [
       "<IPython.lib.display.YouTubeVideo at 0x1f8b96456a0>"
      ]
     },
     "execution_count": 9,
     "metadata": {},
     "output_type": "execute_result"
    }
   ],
   "source": [
    "from IPython.display import YouTubeVideo\n",
    "\n",
    "YouTubeVideo('FziVGXIzxKo')"
   ]
  },
  {
   "cell_type": "markdown",
   "metadata": {},
   "source": [
    "### Background:\n",
    "We had already derived the biharmonic equation in rectangular Cartesian coordinate system. So we know:\n",
    "\\begin{gather}\n",
    "\\nabla^4 \\phi = 0, \\tag{1} \\\\ \n",
    "\\text{or,} \\quad \\left( \\frac{\\partial^4}{\\partial x^4} + 2 \\frac{\\partial^4}{\\partial x^2 \\partial y^2} + \\frac{\\partial^4}{\\partial y^4} \\right) \\phi = 0 \\tag{2}\n",
    "\\end{gather}\n",
    "Now, we wish to obtain the version in the polar coordinate system, i.e. the r,θ coordinate system. The whole derivation is, in essence, a transformation from the rectangular Cartesian coordinate system to the polar coordinate system. We follow the steps outlined in the classic \"Theory of Elasticity\" 3rd edition, by Timoshenko and Goodier.\n",
    "\n",
    "We begin by noting that $x=r \\cos\\theta$ and $y=r\\sin \\theta$. Then, we obtain:\n",
    "\\begin{align}\n",
    "\\frac{\\partial r}{\\partial x} &= \\cos \\theta \\tag{3}\\\\\n",
    "\\frac{\\partial r}{\\partial y} &= \\sin \\theta \\tag{4}\\\\\n",
    "\\frac{\\partial \\theta}{\\partial x} & = - \\frac{\\sin \\theta}{r} \\tag{5} \\\\\n",
    "\\frac{\\partial \\theta}{\\partial y} & = \\frac{\\cos \\theta}{r} \\tag{6} \\\\\n",
    "\\end{align}\n",
    "\n",
    "For a generic function $f(r,\\theta)$, we have\n",
    "\\begin{align}\n",
    "\\frac{\\partial f}{\\partial x} &= \\frac{\\partial f}{\\partial r}\\frac{\\partial r}{\\partial x} + \\frac{\\partial f}{\\partial \\theta}\\frac{\\partial \\theta}{\\partial x} \\tag{7} \\\\\n",
    "\\frac{\\partial f}{\\partial y} &= \\frac{\\partial f}{\\partial r}\\frac{\\partial r}{\\partial y} + \\frac{\\partial f}{\\partial \\theta}\\frac{\\partial \\theta}{\\partial y} \\tag{8}\n",
    "\\end{align}\n",
    "\n",
    "Up to this point, we could easily proceed \"by hand\". However, our final aim is to obtain the polar coordinate versions of \\begin{align}\\frac{\\partial^4 f}{\\partial x^4}, \\frac{\\partial^4 f}{\\partial x^2\\partial y^2}, \\frac{\\partial^4 f}{\\partial y^4} \\end{align}Doing these by hand involves a lot of time and effort.\n",
    "\n",
    "However, we can take advantage of the power of SymPy to automate these derivations."
   ]
  },
  {
   "cell_type": "markdown",
   "metadata": {},
   "source": [
    "### Definitions in SymPy\n",
    "We begin by invoking SymPy and defining the symbols r and θ."
   ]
  },
  {
   "cell_type": "code",
   "execution_count": 10,
   "metadata": {},
   "outputs": [],
   "source": [
    "from sympy import *\n",
    "from IPython.display import Math, Latex\n",
    "\n",
    "r, theta = symbols('r, theta')"
   ]
  },
  {
   "cell_type": "markdown",
   "metadata": {},
   "source": [
    "We define a generic function $f(r,\\theta)$ as:\n",
    "\n",
    "We then write the definitions as in Eqs (3)-(6):"
   ]
  },
  {
   "cell_type": "code",
   "execution_count": 11,
   "metadata": {},
   "outputs": [
    {
     "data": {
      "text/latex": [
       "$\\displaystyle r$"
      ],
      "text/plain": [
       "r"
      ]
     },
     "metadata": {},
     "output_type": "display_data"
    },
    {
     "data": {
      "text/latex": [
       "$\\displaystyle \\theta$"
      ],
      "text/plain": [
       "theta"
      ]
     },
     "metadata": {},
     "output_type": "display_data"
    },
    {
     "data": {
      "text/latex": [
       "$\\displaystyle \\phi{\\left(r,\\theta \\right)}$"
      ],
      "text/plain": [
       "phi(r, theta)"
      ]
     },
     "metadata": {},
     "output_type": "display_data"
    }
   ],
   "source": [
    "phi = Function('phi')(r, theta)\n",
    "display(r, theta, phi)"
   ]
  },
  {
   "cell_type": "code",
   "execution_count": 12,
   "metadata": {},
   "outputs": [
    {
     "data": {
      "text/latex": [
       "$\\displaystyle \\partial r/\\partial x = \\cos{\\left(\\theta \\right)}$"
      ],
      "text/plain": [
       "<IPython.core.display.Math object>"
      ]
     },
     "metadata": {},
     "output_type": "display_data"
    },
    {
     "data": {
      "text/latex": [
       "$\\displaystyle \\partial r/\\partial y = \\sin{\\left(\\theta \\right)}$"
      ],
      "text/plain": [
       "<IPython.core.display.Math object>"
      ]
     },
     "metadata": {},
     "output_type": "display_data"
    },
    {
     "data": {
      "text/latex": [
       "$\\displaystyle \\partial \\theta/\\partial x = - \\frac{\\sin{\\left(\\theta \\right)}}{r}$"
      ],
      "text/plain": [
       "<IPython.core.display.Math object>"
      ]
     },
     "metadata": {},
     "output_type": "display_data"
    },
    {
     "data": {
      "text/latex": [
       "$\\displaystyle \\partial \\theta/\\partial y = \\frac{\\cos{\\left(\\theta \\right)}}{r}$"
      ],
      "text/plain": [
       "<IPython.core.display.Math object>"
      ]
     },
     "metadata": {},
     "output_type": "display_data"
    }
   ],
   "source": [
    "delr_delx = cos(theta)\n",
    "\n",
    "delr_dely = sin(theta)\n",
    "\n",
    "deltheta_delx = -sin(theta)/r\n",
    "\n",
    "deltheta_dely = cos(theta)/r\n",
    "\n",
    "display(Math(r'\\partial r/\\partial x = {}'.format(latex(delr_delx))))\n",
    "display(Math(r'\\partial r/\\partial y = {}'.format(latex(delr_dely))))\n",
    "display(Math(r'\\partial \\theta/\\partial x = {}'.format(latex(deltheta_delx))))\n",
    "display(Math(r'\\partial \\theta/\\partial y = {}'.format(latex(deltheta_dely))))"
   ]
  },
  {
   "cell_type": "markdown",
   "metadata": {},
   "source": [
    "And, then we write the definitions as in Eqs (7) and (8):"
   ]
  },
  {
   "cell_type": "code",
   "execution_count": 13,
   "metadata": {},
   "outputs": [],
   "source": [
    "def del_delx(f):\n",
    "    return delr_delx*diff(f,r) + deltheta_delx*diff(f,theta)\n",
    "\n",
    "def del_dely(f):\n",
    "    return delr_dely*diff(f,r) + deltheta_dely*diff(f,theta)"
   ]
  },
  {
   "cell_type": "markdown",
   "metadata": {},
   "source": [
    "Up to this point, we have merely translated the equations which we had obtained by hand into the language of SymPy. However, we are now at the point where we need to find the second order derivatives. These we shall obtain not by hand, but by using the power of SymPy by making the definitions of the first order derivatives operate on themselves. Thus:"
   ]
  },
  {
   "cell_type": "code",
   "execution_count": 14,
   "metadata": {},
   "outputs": [],
   "source": [
    "def del2_delx2(f):\n",
    "    return del_delx(del_delx(f))\n",
    "\n",
    "def del2_dely2(f):\n",
    "    return del_dely(del_dely(f))"
   ]
  },
  {
   "cell_type": "markdown",
   "metadata": {},
   "source": [
    "#### Definition of the polar biharmonic\n",
    "We finally wish to go to the biharmonic equation. But for that we need not explicitly find the third order derivatives and then the fourth order derivatives. Instead, we can define the polar version of the Laplacian operator $\\frac{\\partial^2 f}{\\partial x^2}$+$\\frac{\\partial^2 f}{\\partial y^2}$ as follows:"
   ]
  },
  {
   "cell_type": "code",
   "execution_count": 15,
   "metadata": {},
   "outputs": [],
   "source": [
    "def polarLapacian(f):\n",
    "    return (del2_delx2(f) + del2_dely2(f)).simplify()"
   ]
  },
  {
   "cell_type": "markdown",
   "metadata": {},
   "source": [
    "That's the definition. But, let's check what the polar Laplacian looks. For that, we first set up a generic function, $\\phi(r,\\theta)$, and operate the polarLaplacian function on it:"
   ]
  },
  {
   "cell_type": "code",
   "execution_count": 16,
   "metadata": {
    "scrolled": true
   },
   "outputs": [
    {
     "data": {
      "text/latex": [
       "$\\displaystyle \\frac{\\partial^{2}}{\\partial r^{2}} \\phi{\\left(r,\\theta \\right)} + \\frac{\\frac{\\partial}{\\partial r} \\phi{\\left(r,\\theta \\right)}}{r} + \\frac{\\frac{\\partial^{2}}{\\partial \\theta^{2}} \\phi{\\left(r,\\theta \\right)}}{r^{2}}$"
      ],
      "text/plain": [
       "Derivative(phi(r, theta), (r, 2)) + Derivative(phi(r, theta), r)/r + Derivative(phi(r, theta), (theta, 2))/r**2"
      ]
     },
     "execution_count": 16,
     "metadata": {},
     "output_type": "execute_result"
    }
   ],
   "source": [
    "polarLapacian(phi)"
   ]
  },
  {
   "cell_type": "markdown",
   "metadata": {},
   "source": [
    "We can now immediately go to the polar version of the biharmonic operator by making the Laplacian operator operate on itself. Thus:"
   ]
  },
  {
   "cell_type": "code",
   "execution_count": 17,
   "metadata": {},
   "outputs": [],
   "source": [
    "def  polarbiharmonic(f):\n",
    "    return polarLapacian(polarLapacian(f))"
   ]
  },
  {
   "cell_type": "code",
   "execution_count": 18,
   "metadata": {},
   "outputs": [
    {
     "data": {
      "text/latex": [
       "$\\displaystyle \\frac{r^{4} \\frac{\\partial^{4}}{\\partial r^{4}} \\phi{\\left(r,\\theta \\right)} + 2 r^{3} \\frac{\\partial^{3}}{\\partial r^{3}} \\phi{\\left(r,\\theta \\right)} - r^{2} \\frac{\\partial^{2}}{\\partial r^{2}} \\phi{\\left(r,\\theta \\right)} + 2 r^{2} \\frac{\\partial^{4}}{\\partial \\theta^{2}\\partial r^{2}} \\phi{\\left(r,\\theta \\right)} + r \\frac{\\partial}{\\partial r} \\phi{\\left(r,\\theta \\right)} - 2 r \\frac{\\partial^{3}}{\\partial \\theta^{2}\\partial r} \\phi{\\left(r,\\theta \\right)} + 4 \\frac{\\partial^{2}}{\\partial \\theta^{2}} \\phi{\\left(r,\\theta \\right)} + \\frac{\\partial^{4}}{\\partial \\theta^{4}} \\phi{\\left(r,\\theta \\right)}}{r^{4}}$"
      ],
      "text/plain": [
       "(r**4*Derivative(phi(r, theta), (r, 4)) + 2*r**3*Derivative(phi(r, theta), (r, 3)) - r**2*Derivative(phi(r, theta), (r, 2)) + 2*r**2*Derivative(phi(r, theta), (r, 2), (theta, 2)) + r*Derivative(phi(r, theta), r) - 2*r*Derivative(phi(r, theta), r, (theta, 2)) + 4*Derivative(phi(r, theta), (theta, 2)) + Derivative(phi(r, theta), (theta, 4)))/r**4"
      ]
     },
     "execution_count": 18,
     "metadata": {},
     "output_type": "execute_result"
    }
   ],
   "source": [
    "polarbiharmonic(phi)"
   ]
  },
  {
   "cell_type": "markdown",
   "metadata": {},
   "source": [
    "Now, imagine obtaining this by hand!\n",
    "\n",
    "However, our work is far from over. To address a full-scale problem from 2D elasticity, we have to solve the polar biharmonic equation subject to certain boundary conditions. These boundary conditions are often expressed in terms of the stress fields. So, we need to find the relations between the stresses and the Airy stress function."
   ]
  },
  {
   "cell_type": "markdown",
   "metadata": {},
   "source": [
    "Definition of the stresses in polar coordinates\n",
    "To find the relations between the stresses and the Airy stress function in the polar coordinate system, we proceed again by transforming from the rectangular Cartesian coordinate system. This transformation involves two steps.\n",
    "\n",
    "First step: Obtain the expressions of $\\sigma_{xx} = \\frac{\\partial^2 \\phi}{\\partial y^2}$, $\\sigma_{yy} = \\frac{\\partial^2 \\phi}{\\partial x^2}$, and $\\sigma_{xy} = -\\frac{\\partial^2 \\phi}{\\partial x \\partial y}$ in terms of the corresponding derivatives of the Airy stress function in polar coordinates.\n",
    "\n",
    "Second step: Transform the stress matrix $\\bar{\\bar{\\sigma}}_{\\rm rect} = \\begin{bmatrix} \\sigma_{xx} & \\sigma_{xy} \\\\ \\sigma_{xy} & \\sigma_{yy}\\end{bmatrix}$ to $\\bar{\\bar\\sigma}_{\\rm pol} = \\begin{bmatrix} \\sigma_{rr} & \\sigma_{r\\theta} \\\\ \\sigma_{r\\theta} & \\sigma_{\\theta\\theta}\\end{bmatrix}$ through the rotation matrix $\\bar{\\bar{Q}} = \\displaystyle \\begin{bmatrix} \\cos \\theta & \\sin \\theta \\\\ -\\sin \\theta & \\cos \\theta \\end{bmatrix}$ using the relation:\n",
    "\n",
    "\\begin{gather}\n",
    "\\bar{\\bar{\\sigma}}_{\\rm pol} = \\bar{\\bar{Q}} \\; \\bar{\\bar{\\sigma}}_{\\rm rect} \\; \\bar{\\bar{Q}}^{\\sf T}\n",
    "\\end{gather}\n",
    "\n",
    "On to the implementation of the **First step** now:"
   ]
  },
  {
   "cell_type": "code",
   "execution_count": 19,
   "metadata": {},
   "outputs": [],
   "source": [
    "def sigma_xx(f):\n",
    "    return del2_dely2(f)\n",
    "\n",
    "def sigma_yy(f):\n",
    "    return del2_delx2(f)\n",
    "\n",
    "def sigma_xy(f):\n",
    "    return -del_delx(del_dely(f))"
   ]
  },
  {
   "cell_type": "markdown",
   "metadata": {},
   "source": [
    "Using the above definitions, we set up $\\bar{\\bar{\\sigma}}_{\\rm rect}$ and the rotation matrix $\\bar{\\bar{Q}}$:"
   ]
  },
  {
   "cell_type": "code",
   "execution_count": 20,
   "metadata": {},
   "outputs": [],
   "source": [
    "def sigma_rect(f):\n",
    "    return Matrix([[sigma_xx(f), sigma_xy(f)],[sigma_xy(f), sigma_yy(f)]])\n",
    "\n",
    "Q = Matrix([[cos(theta), sin(theta)],[-sin(theta), cos(theta)]])"
   ]
  },
  {
   "cell_type": "markdown",
   "metadata": {},
   "source": [
    "We next implement the **Second step** as:"
   ]
  },
  {
   "cell_type": "code",
   "execution_count": 21,
   "metadata": {},
   "outputs": [],
   "source": [
    "def sigma_polar(f):\n",
    "    return Q*sigma_rect(f)*(Q.T)"
   ]
  },
  {
   "cell_type": "markdown",
   "metadata": {},
   "source": [
    "And, finally extract the individual components $\\sigma_{rr}, \\sigma_{\\theta\\theta}$ and $\\sigma_{r\\theta}$:"
   ]
  },
  {
   "cell_type": "code",
   "execution_count": 22,
   "metadata": {},
   "outputs": [],
   "source": [
    "def sigma_rr(f):\n",
    "    return sigma_polar(f)[0,0].simplify().expand()\n",
    "\n",
    "def sigma_tt(f):\n",
    "    return sigma_polar(f)[1,1].simplify()\n",
    "\n",
    "def sigma_rt(f):\n",
    "    return sigma_polar(f)[0,1].simplify().expand()\n",
    "\n",
    "def sigma_tr(f):\n",
    "    return sigma_polar(f)[1,0].simplify().expand()"
   ]
  },
  {
   "cell_type": "markdown",
   "metadata": {},
   "source": [
    "Note that in the above definitions, we have additionally invoked the simplification and expansion functionality that SymPy allows to make the expressions of the stress fields less daunting. It is important to note that it is not just a matter of aesthetics to present these expressions in the simplest possible terms. It does matter for latter operations that the expressions indeed are simple and amenable for solving problems. But before launching into problems, let us display the stress components:"
   ]
  },
  {
   "cell_type": "code",
   "execution_count": 24,
   "metadata": {},
   "outputs": [
    {
     "data": {
      "text/latex": [
       "$\\displaystyle \\frac{\\frac{\\partial}{\\partial r} \\phi{\\left(r,\\theta \\right)}}{r} + \\frac{\\frac{\\partial^{2}}{\\partial \\theta^{2}} \\phi{\\left(r,\\theta \\right)}}{r^{2}}$"
      ],
      "text/plain": [
       "Derivative(phi(r, theta), r)/r + Derivative(phi(r, theta), (theta, 2))/r**2"
      ]
     },
     "metadata": {},
     "output_type": "display_data"
    },
    {
     "data": {
      "text/latex": [
       "$\\displaystyle \\frac{\\partial^{2}}{\\partial r^{2}} \\phi{\\left(r,\\theta \\right)}$"
      ],
      "text/plain": [
       "Derivative(phi(r, theta), (r, 2))"
      ]
     },
     "metadata": {},
     "output_type": "display_data"
    },
    {
     "data": {
      "text/latex": [
       "$\\displaystyle - \\frac{\\frac{\\partial^{2}}{\\partial \\theta\\partial r} \\phi{\\left(r,\\theta \\right)}}{r} + \\frac{\\frac{\\partial}{\\partial \\theta} \\phi{\\left(r,\\theta \\right)}}{r^{2}}$"
      ],
      "text/plain": [
       "-Derivative(phi(r, theta), r, theta)/r + Derivative(phi(r, theta), theta)/r**2"
      ]
     },
     "metadata": {},
     "output_type": "display_data"
    }
   ],
   "source": [
    "display(sigma_rr(phi))\n",
    "display(sigma_tt(phi))\n",
    "display(sigma_rt(phi))"
   ]
  },
  {
   "cell_type": "markdown",
   "metadata": {},
   "source": [
    "We can clearly see that sigma_tr(phi) is exactly the same as sigma_rt(phi), as was to be expected based on the symmetricity of the stress tensor."
   ]
  }
 ],
 "metadata": {
  "kernelspec": {
   "display_name": "Python 3",
   "language": "python",
   "name": "python3"
  },
  "language_info": {
   "codemirror_mode": {
    "name": "ipython",
    "version": 3
   },
   "file_extension": ".py",
   "mimetype": "text/x-python",
   "name": "python",
   "nbconvert_exporter": "python",
   "pygments_lexer": "ipython3",
   "version": "3.7.3"
  }
 },
 "nbformat": 4,
 "nbformat_minor": 2
}
