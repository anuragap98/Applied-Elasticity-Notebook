{
 "cells": [
  {
   "cell_type": "code",
   "execution_count": 1,
   "metadata": {},
   "outputs": [
    {
     "data": {
      "image/jpeg": "[encoded data removed]",
      "text/html": [
       "\n",
       "        <iframe\n",
       "            width=\"400\"\n",
       "            height=\"300\"\n",
       "            src=\"https://www.youtube.com/embed/ZHOoElDnkuY\"\n",
       "            frameborder=\"0\"\n",
       "            allowfullscreen\n",
       "        ></iframe>\n",
       "        "
      ],
      "text/plain": [
       "<IPython.lib.display.YouTubeVideo at 0x25fe78d04a8>"
      ]
     },
     "execution_count": 1,
     "metadata": {},
     "output_type": "execute_result"
    }
   ],
   "source": [
    "from IPython.display import YouTubeVideo\n",
    "\n",
    "YouTubeVideo('ZHOoElDnkuY')"
   ]
  },
  {
   "cell_type": "markdown",
   "metadata": {},
   "source": [
    "# Plate with a circular hole subjected to uniaxial tensile loading\n",
    "\n",
    "<img src=\"https://nbviewer.jupyter.org/github/jeevanjyoti4/elasticity/blob/master/Plate-CircularHole.svg\" width=\"300\"/>\n"
   ]
  },
  {
   "cell_type": "markdown",
   "metadata": {},
   "source": [
    "In order to address this problem, first imagine that the hole does not exist. Then it is a simple problem of uniaxial tension of a plate. \n",
    "\n",
    "Referred to a rectangular Cartesian coordinate system, the stress field for that (no-hole) problem will be $\\sigma_{xx} = S$, $\\sigma_{yy} = 0$, and $\\sigma_{xy} = 0$. This stress field is easily realized by using the Airy stress function $\\displaystyle \\varphi = \\frac{1}{2}Sy^2$. Here, $x$ is parallel to the direction of the applied tensile load. \n",
    "\n",
    "Converting to a polar coordinate system, we have for the Airy stress function: $\\displaystyle \\varphi = \\frac{1}{2} S r^2 \\sin^2\\theta$. "
   ]
  },
  {
   "cell_type": "code",
   "execution_count": 1,
   "metadata": {},
   "outputs": [],
   "source": [
    "from polarUtilities import *\n",
    "from IPython.display import Math, Latex"
   ]
  },
  {
   "cell_type": "code",
   "execution_count": 4,
   "metadata": {},
   "outputs": [
    {
     "data": {
      "text/latex": [
       "$\\displaystyle \\varphi = \\frac{S r^{2} \\sin^{2}{\\left(\\theta \\right)}}{2}$"
      ],
      "text/plain": [
       "<IPython.core.display.Math object>"
      ]
     },
     "metadata": {},
     "output_type": "display_data"
    }
   ],
   "source": [
    "S = symbols('S')\n",
    "phi = Rational(1,2)*S*r**2*(sin(theta))**2\n",
    "display(Math(r'\\varphi = {}'.format(latex(phi))))"
   ]
  },
  {
   "cell_type": "code",
   "execution_count": 5,
   "metadata": {},
   "outputs": [
    {
     "data": {
      "text/latex": [
       "$\\displaystyle \\sigma_{rr} = S \\cos^{2}{\\left(\\theta \\right)}$"
      ],
      "text/plain": [
       "<IPython.core.display.Math object>"
      ]
     },
     "metadata": {},
     "output_type": "display_data"
    },
    {
     "data": {
      "text/latex": [
       "$\\displaystyle \\sigma_{\\theta\\theta} = S \\cos^{2}{\\left(\\theta \\right)}$"
      ],
      "text/plain": [
       "<IPython.core.display.Math object>"
      ]
     },
     "metadata": {},
     "output_type": "display_data"
    },
    {
     "data": {
      "text/latex": [
       "$\\displaystyle \\sigma_{r\\theta} = - \\frac{S \\sin{\\left(2 \\theta \\right)}}{2}$"
      ],
      "text/plain": [
       "<IPython.core.display.Math object>"
      ]
     },
     "metadata": {},
     "output_type": "display_data"
    }
   ],
   "source": [
    "sigmarr = sigma_rr(phi)\n",
    "sigmatt = sigma_tt(phi)\n",
    "sigmart = sigma_rt(phi)\n",
    "\n",
    "display(Math(r'\\sigma_{{rr}} = {}'.format(latex(sigmarr))))\n",
    "display(Math(r'\\sigma_{{\\theta\\theta}} = {}'.format(latex(sigmarr))))\n",
    "display(Math(r'\\sigma_{{r\\theta}} = {}'.format(latex(sigmart))))"
   ]
  },
  {
   "cell_type": "markdown",
   "metadata": {},
   "source": [
    "We remind ourselves that the above stress field was obtained by imagining the hole to be absent. However, even if the hole is present, we would still have the above stress field at sufficiently large distances from the hole. \n",
    "\n",
    "Consider a circle of radius $b$ concentric with the hole such that $b \\gg a$. We note that at the radius $r=b$, the above stress field is applicable. \n",
    "\n",
    "Now, we are going to bring back the hole. The stress distribution around the hole can be determined by solving a circular plate problem where the boundary conditions are given by\n",
    "\\begin{alignat*}{2}\n",
    "\\sigma_{rr} &= S\\cos^2\\theta &\\quad \\text{at $r=b$}\\\\\n",
    "\\sigma_{r\\theta} &= -\\frac{1}{2}S \\sin(2\\theta) &\\quad \\text{at $r=b$} \\\\\n",
    "\\sigma_{rr} &= 0 &\\quad \\text{at $r=a$} \\\\\n",
    "\\sigma_{r\\theta} &= 0 &\\quad \\text{at $r=a$}\n",
    "\\end{alignat*}\n",
    "\n",
    "We rewrite $\\sigma_{rr} = S \\cos^2 \\theta$ as $\\displaystyle \\sigma_{rr} =\\frac{1}{2}S(1+\\cos(2\\theta))$ and view it as the contribution of the two parts $\\displaystyle \\frac{1}{2}S$ and $\\displaystyle \\frac{1}{2}S \\cos(2\\theta)$, separately. \n",
    "\n",
    "Therefore, the circular plate problem can be further divided into two problems with the following boundary conditions:\n",
    "\n",
    "### Problem 1 BCs\n",
    "\\begin{alignat*}{2}\n",
    "\\sigma_{rr} &= \\frac{1}{2}S &\\quad \\text{at $r=b$}\\\\\n",
    "\\sigma_{r\\theta} &= 0 &\\quad \\text{at $r=b$} \\\\\n",
    "\\sigma_{rr} &= 0 &\\quad \\text{at $r=a$} \\\\\n",
    "\\sigma_{r\\theta} &= 0 &\\quad \\text{at $r=a$}\n",
    "\\end{alignat*}\n",
    "\n",
    "### Problem 2 BCs\n",
    "\\begin{alignat*}{2}\n",
    "\\sigma_{rr} &= \\frac{1}{2}S \\cos (2\\theta) &\\quad \\text{at $r=b$}\\\\\n",
    "\\sigma_{r\\theta} &= -\\frac{1}{2}S \\sin(2\\theta) &\\quad \\text{at $r=b$} \\\\\n",
    "\\sigma_{rr} &= 0 &\\quad \\text{at $r=a$} \\\\\n",
    "\\sigma_{r\\theta} &= 0 &\\quad \\text{at $r=a$}\n",
    "\\end{alignat*}\n",
    "\n",
    "We will solve these two problems separately and then add the solutions. "
   ]
  },
  {
   "cell_type": "markdown",
   "metadata": {},
   "source": [
    "### Problem 1\n",
    "This problem has axisymmetric conditions and we consider the following Airy stress function:"
   ]
  },
  {
   "cell_type": "code",
   "execution_count": 6,
   "metadata": {},
   "outputs": [
    {
     "data": {
      "text/latex": [
       "$\\displaystyle \\varphi_{1}{\\left(r \\right)}$"
      ],
      "text/plain": [
       "varphi1(r)"
      ]
     },
     "metadata": {},
     "output_type": "display_data"
    }
   ],
   "source": [
    "phi1 = Function('varphi1')(r)\n",
    "display(phi1)"
   ]
  },
  {
   "cell_type": "markdown",
   "metadata": {},
   "source": [
    "This $\\varphi_1$ must satisfy the biharmonic equation, and we obtain as its solution the following:"
   ]
  },
  {
   "cell_type": "code",
   "execution_count": 7,
   "metadata": {},
   "outputs": [
    {
     "data": {
      "text/latex": [
       "$\\displaystyle \\varphi_{1}{\\left(r \\right)} = C_{1} + C_{2} r^{2} + C_{3} r^{2} \\log{\\left(r \\right)} + C_{4} \\log{\\left(r \\right)}$"
      ],
      "text/plain": [
       "Eq(varphi1(r), C1 + C2*r**2 + C3*r**2*log(r) + C4*log(r))"
      ]
     },
     "execution_count": 7,
     "metadata": {},
     "output_type": "execute_result"
    }
   ],
   "source": [
    "dsolve(polarbiharmonic(phi1))"
   ]
  },
  {
   "cell_type": "markdown",
   "metadata": {},
   "source": [
    "We rewrite $\\varphi_1(r)$ in terms of the constants $A$, $B$, $C$, and $D$ as"
   ]
  },
  {
   "cell_type": "code",
   "execution_count": 8,
   "metadata": {},
   "outputs": [
    {
     "data": {
      "text/latex": [
       "$\\displaystyle A \\log{\\left(r \\right)} + B r^{2} \\log{\\left(r \\right)} + C r^{2} + D$"
      ],
      "text/plain": [
       "A*log(r) + B*r**2*log(r) + C*r**2 + D"
      ]
     },
     "execution_count": 8,
     "metadata": {},
     "output_type": "execute_result"
    }
   ],
   "source": [
    "A, B, C, D = symbols('A, B, C, D')\n",
    "phi1 = A*log(r)+B*r**2*log(r)+C*r**2 + D\n",
    "phi1"
   ]
  },
  {
   "cell_type": "markdown",
   "metadata": {},
   "source": [
    "However, we note that as per the first problem discussed in 2D elasticity - polar coordinates, for this problem we need to have $B=0$. Then, we have the following:"
   ]
  },
  {
   "cell_type": "code",
   "execution_count": 9,
   "metadata": {},
   "outputs": [
    {
     "data": {
      "text/latex": [
       "$\\displaystyle \\frac{A}{r^{2}} + 2 C$"
      ],
      "text/plain": [
       "A/r**2 + 2*C"
      ]
     },
     "metadata": {},
     "output_type": "display_data"
    },
    {
     "data": {
      "text/latex": [
       "$\\displaystyle - \\frac{A}{r^{2}} + 2 C$"
      ],
      "text/plain": [
       "-A/r**2 + 2*C"
      ]
     },
     "metadata": {},
     "output_type": "display_data"
    },
    {
     "data": {
      "text/latex": [
       "$\\displaystyle 0$"
      ],
      "text/plain": [
       "0"
      ]
     },
     "metadata": {},
     "output_type": "display_data"
    }
   ],
   "source": [
    "sigmarr1 = sigma_rr(phi1).subs(B,0)\n",
    "sigmatt1 = sigma_tt(phi1).subs(B,0)\n",
    "sigmart1 = sigma_rt(phi1)\n",
    "display(sigmarr1, sigmatt1, sigmart1)"
   ]
  },
  {
   "cell_type": "markdown",
   "metadata": {},
   "source": [
    "We now set up the four boundary condition equations for Problem 1. "
   ]
  },
  {
   "cell_type": "code",
   "execution_count": 10,
   "metadata": {},
   "outputs": [
    {
     "data": {
      "text/latex": [
       "$\\displaystyle \\frac{A}{b^{2}} + 2 C = \\frac{S}{2}$"
      ],
      "text/plain": [
       "Eq(A/b**2 + 2*C, S/2)"
      ]
     },
     "metadata": {},
     "output_type": "display_data"
    },
    {
     "data": {
      "text/latex": [
       "$\\displaystyle \\frac{A}{a^{2}} + 2 C = 0$"
      ],
      "text/plain": [
       "Eq(A/a**2 + 2*C, 0)"
      ]
     },
     "metadata": {},
     "output_type": "display_data"
    },
    {
     "data": {
      "text/latex": [
       "$\\displaystyle \\text{True}$"
      ],
      "text/plain": [
       "True"
      ]
     },
     "metadata": {},
     "output_type": "display_data"
    },
    {
     "data": {
      "text/latex": [
       "$\\displaystyle \\text{True}$"
      ],
      "text/plain": [
       "True"
      ]
     },
     "metadata": {},
     "output_type": "display_data"
    },
    {
     "data": {
      "text/latex": [
       "$\\displaystyle \\frac{S a^{2} b^{2}}{2 \\left(a^{2} - b^{2}\\right)}$"
      ],
      "text/plain": [
       "S*a**2*b**2/(2*(a**2 - b**2))"
      ]
     },
     "metadata": {},
     "output_type": "display_data"
    },
    {
     "data": {
      "text/latex": [
       "$\\displaystyle - \\frac{S b^{2}}{4 a^{2} - 4 b^{2}}$"
      ],
      "text/plain": [
       "-S*b**2/(4*a**2 - 4*b**2)"
      ]
     },
     "metadata": {},
     "output_type": "display_data"
    }
   ],
   "source": [
    "a, b = symbols('a, b')\n",
    "\n",
    "lhs = sigmarr1.subs(r,b)\n",
    "rhs = Rational(1,2)*S\n",
    "eq1 = Eq(lhs,rhs)\n",
    "display(eq1)\n",
    "\n",
    "lhs = sigmarr1.subs(r,a)\n",
    "rhs = 0\n",
    "eq2 = Eq(lhs,rhs)\n",
    "display(eq2)\n",
    "\n",
    "lhs = sigmart1.subs(r,b)\n",
    "rhs = 0\n",
    "eq3 = Eq(lhs,rhs)\n",
    "display(eq3)\n",
    "\n",
    "lhs = sigmart1.subs(r,a)\n",
    "rhs = 0\n",
    "eq4 = Eq(lhs,rhs)\n",
    "display(eq4)\n",
    "\n",
    "soln, = linsolve([eq1,eq2],(A,C))\n",
    "Asoln = soln[0]\n",
    "Csoln = soln[1]\n",
    "display(Asoln,Csoln)"
   ]
  },
  {
   "cell_type": "markdown",
   "metadata": {},
   "source": [
    "Using the expressions of $A$ and $C$, we obtain:"
   ]
  },
  {
   "cell_type": "code",
   "execution_count": 11,
   "metadata": {},
   "outputs": [
    {
     "data": {
      "text/latex": [
       "$\\displaystyle \\frac{S a^{2} b^{2}}{2 r^{2} \\left(a^{2} - b^{2}\\right)} - \\frac{2 S b^{2}}{4 a^{2} - 4 b^{2}}$"
      ],
      "text/plain": [
       "S*a**2*b**2/(2*r**2*(a**2 - b**2)) - 2*S*b**2/(4*a**2 - 4*b**2)"
      ]
     },
     "metadata": {},
     "output_type": "display_data"
    },
    {
     "data": {
      "text/latex": [
       "$\\displaystyle - \\frac{S a^{2} b^{2}}{2 r^{2} \\left(a^{2} - b^{2}\\right)} - \\frac{2 S b^{2}}{4 a^{2} - 4 b^{2}}$"
      ],
      "text/plain": [
       "-S*a**2*b**2/(2*r**2*(a**2 - b**2)) - 2*S*b**2/(4*a**2 - 4*b**2)"
      ]
     },
     "metadata": {},
     "output_type": "display_data"
    }
   ],
   "source": [
    "sigmarr1_soln = sigmarr1.subs([(A,Asoln),(C,Csoln)])\n",
    "sigmatt1_soln = sigmatt1.subs([(A,Asoln),(C,Csoln)])\n",
    "display(sigmarr1_soln,sigmatt1_soln)"
   ]
  },
  {
   "cell_type": "markdown",
   "metadata": {},
   "source": [
    "Finally, we take the limit of $b \\gg a$ by letting $b \\to \\infty$, to obtain the stress fields:"
   ]
  },
  {
   "cell_type": "code",
   "execution_count": 13,
   "metadata": {},
   "outputs": [
    {
     "data": {
      "text/latex": [
       "$\\displaystyle \\sigma_{rr}^{(1)} = \\frac{- S a^{2} + S r^{2}}{2 r^{2}}$"
      ],
      "text/plain": [
       "<IPython.core.display.Math object>"
      ]
     },
     "metadata": {},
     "output_type": "display_data"
    },
    {
     "data": {
      "text/latex": [
       "$\\displaystyle \\sigma_{\\theta\\theta}^{(1)} = \\frac{S a^{2} + S r^{2}}{2 r^{2}}$"
      ],
      "text/plain": [
       "<IPython.core.display.Math object>"
      ]
     },
     "metadata": {},
     "output_type": "display_data"
    }
   ],
   "source": [
    "sigmarr1_lim = limit(sigmarr1_soln,b,oo)\n",
    "sigmatt1_lim = limit(sigmatt1_soln,b,oo)\n",
    "\n",
    "display(Math(r'\\sigma_{{rr}}^{{(1)}} = {}'.format(latex(sigmarr1_lim))))\n",
    "display(Math(r'\\sigma_{{\\theta\\theta}}^{{(1)}} = {}'.format(latex(sigmatt1_lim))))"
   ]
  },
  {
   "cell_type": "markdown",
   "metadata": {},
   "source": [
    "### Problem 2\n",
    "This problem needs to satisfy the boundary conditions $\\displaystyle \\sigma_{rr} = \\frac{1}{2}S \\cos(2\\theta)$ and $\\displaystyle \\sigma_{r\\theta} = \\frac{1}{2} \\sin(2\\theta)$ at $r=b$, where $b \\gg a$. \n",
    "\n",
    "A stress field with $\\sigma_{rr}$ proportional to $\\cos(2\\theta)$ and $\\sigma_{r\\theta}$ proportional to $\\sin(2\\theta)$ can be realized by considering an Airy stress function of the following form:"
   ]
  },
  {
   "cell_type": "code",
   "execution_count": 14,
   "metadata": {},
   "outputs": [
    {
     "data": {
      "text/latex": [
       "$\\displaystyle \\varphi_2 = g{\\left(r \\right)} \\cos{\\left(2 \\theta \\right)}$"
      ],
      "text/plain": [
       "<IPython.core.display.Math object>"
      ]
     },
     "metadata": {},
     "output_type": "display_data"
    }
   ],
   "source": [
    "g = Function('g')(r)\n",
    "phi2 = g*cos(2*theta)\n",
    "display(Math(r'\\varphi_2 = {}'.format(latex(phi2))))"
   ]
  },
  {
   "cell_type": "markdown",
   "metadata": {},
   "source": [
    "This $\\varphi_2$ must again satisfy the biharmonic equation. Solving the biharmonic equation, we obtain as the solution form for $g(r)$ as follows:"
   ]
  },
  {
   "cell_type": "code",
   "execution_count": 15,
   "metadata": {},
   "outputs": [
    {
     "data": {
      "text/latex": [
       "$\\displaystyle g{\\left(r \\right)} = C_{1} + \\frac{C_{2}}{r^{2}} + C_{3} r^{2} + C_{4} r^{4}$"
      ],
      "text/plain": [
       "Eq(g(r), C1 + C2/r**2 + C3*r**2 + C4*r**4)"
      ]
     },
     "execution_count": 15,
     "metadata": {},
     "output_type": "execute_result"
    }
   ],
   "source": [
    "dsolve(polarbiharmonic(phi2))"
   ]
  },
  {
   "cell_type": "code",
   "execution_count": 16,
   "metadata": {},
   "outputs": [
    {
     "data": {
      "text/latex": [
       "$\\displaystyle \\left(A r^{2} + B r^{4} + \\frac{C}{r^{2}} + D\\right) \\cos{\\left(2 \\theta \\right)}$"
      ],
      "text/plain": [
       "(A*r**2 + B*r**4 + C/r**2 + D)*cos(2*theta)"
      ]
     },
     "execution_count": 16,
     "metadata": {},
     "output_type": "execute_result"
    }
   ],
   "source": [
    "A, B, C, D = symbols('A, B, C, D')\n",
    "phi2 = (A*r**2 + B*r**4 + C*1/r**2 + D)*cos(2*theta)\n",
    "phi2"
   ]
  },
  {
   "cell_type": "code",
   "execution_count": 17,
   "metadata": {},
   "outputs": [
    {
     "data": {
      "text/latex": [
       "$\\displaystyle \\left(- 2 A - \\frac{6 C}{r^{4}} - \\frac{4 D}{r^{2}}\\right) \\cos{\\left(2 \\theta \\right)}$"
      ],
      "text/plain": [
       "(-2*A - 6*C/r**4 - 4*D/r**2)*cos(2*theta)"
      ]
     },
     "metadata": {},
     "output_type": "display_data"
    },
    {
     "data": {
      "text/latex": [
       "$\\displaystyle \\frac{2 \\left(A r^{4} + 6 B r^{6} + 3 C\\right) \\cos{\\left(2 \\theta \\right)}}{r^{4}}$"
      ],
      "text/plain": [
       "2*(A*r**4 + 6*B*r**6 + 3*C)*cos(2*theta)/r**4"
      ]
     },
     "metadata": {},
     "output_type": "display_data"
    },
    {
     "data": {
      "text/latex": [
       "$\\displaystyle \\left(2 A + 6 B r^{2} - \\frac{6 C}{r^{4}} - \\frac{2 D}{r^{2}}\\right) \\sin{\\left(2 \\theta \\right)}$"
      ],
      "text/plain": [
       "(2*A + 6*B*r**2 - 6*C/r**4 - 2*D/r**2)*sin(2*theta)"
      ]
     },
     "metadata": {},
     "output_type": "display_data"
    }
   ],
   "source": [
    "sigmarr2 = sigma_rr(phi2).collect(cos(2*theta))\n",
    "sigmatt2 = sigma_tt(phi2).collect(cos(2*theta))\n",
    "sigmart2 = sigma_rt(phi2).collect(sin(2*theta))\n",
    "\n",
    "display(sigmarr2)\n",
    "display(sigmatt2)\n",
    "display(sigmart2)"
   ]
  },
  {
   "cell_type": "code",
   "execution_count": 18,
   "metadata": {},
   "outputs": [
    {
     "data": {
      "text/latex": [
       "$\\displaystyle - 2 A - \\frac{6 C}{b^{4}} - \\frac{4 D}{b^{2}} = \\frac{S}{2}$"
      ],
      "text/plain": [
       "Eq(-2*A - 6*C/b**4 - 4*D/b**2, S/2)"
      ]
     },
     "metadata": {},
     "output_type": "display_data"
    },
    {
     "data": {
      "text/latex": [
       "$\\displaystyle - 2 A - \\frac{6 C}{a^{4}} - \\frac{4 D}{a^{2}} = 0$"
      ],
      "text/plain": [
       "Eq(-2*A - 6*C/a**4 - 4*D/a**2, 0)"
      ]
     },
     "metadata": {},
     "output_type": "display_data"
    },
    {
     "data": {
      "text/latex": [
       "$\\displaystyle 2 A + 6 B b^{2} - \\frac{6 C}{b^{4}} - \\frac{2 D}{b^{2}} = - \\frac{S}{2}$"
      ],
      "text/plain": [
       "Eq(2*A + 6*B*b**2 - 6*C/b**4 - 2*D/b**2, -S/2)"
      ]
     },
     "metadata": {},
     "output_type": "display_data"
    },
    {
     "data": {
      "text/latex": [
       "$\\displaystyle 2 A + 6 B a^{2} - \\frac{6 C}{a^{4}} - \\frac{2 D}{a^{2}} = 0$"
      ],
      "text/plain": [
       "Eq(2*A + 6*B*a**2 - 6*C/a**4 - 2*D/a**2, 0)"
      ]
     },
     "metadata": {},
     "output_type": "display_data"
    }
   ],
   "source": [
    "a, b = symbols('a,b')\n",
    "\n",
    "lhs = sigmarr2.subs(r,b)/cos(2*theta)\n",
    "rhs = Rational(1,2)*S\n",
    "eq1 = Eq(lhs,rhs)\n",
    "display(eq1)\n",
    "\n",
    "lhs = sigmarr2.subs(r,a)/cos(2*theta)\n",
    "rhs = 0\n",
    "eq2 = Eq(lhs,rhs)\n",
    "display(eq2)\n",
    "\n",
    "lhs = sigmart2.subs(r,b)/sin(2*theta)\n",
    "rhs = -Rational(1,2)*S\n",
    "eq3 = Eq(lhs,rhs)\n",
    "display(eq3)\n",
    "\n",
    "lhs = sigmart2.subs(r,a)/sin(2*theta)\n",
    "rhs = 0\n",
    "eq4 = Eq(lhs,rhs)\n",
    "display(eq4)"
   ]
  },
  {
   "cell_type": "code",
   "execution_count": 19,
   "metadata": {},
   "outputs": [],
   "source": [
    "soln, = linsolve([eq1,eq2,eq3,eq4],(A,B,C,D))"
   ]
  },
  {
   "cell_type": "code",
   "execution_count": 20,
   "metadata": {},
   "outputs": [
    {
     "data": {
      "text/latex": [
       "$\\displaystyle \\frac{S b^{2} \\left(4 a^{4} + a^{2} b^{2} + b^{4}\\right)}{4 \\left(a^{6} - 3 a^{4} b^{2} + 3 a^{2} b^{4} - b^{6}\\right)}$"
      ],
      "text/plain": [
       "S*b**2*(4*a**4 + a**2*b**2 + b**4)/(4*(a**6 - 3*a**4*b**2 + 3*a**2*b**4 - b**6))"
      ]
     },
     "metadata": {},
     "output_type": "display_data"
    },
    {
     "data": {
      "text/latex": [
       "$\\displaystyle - \\frac{S a^{2} b^{2}}{2 a^{6} - 6 a^{4} b^{2} + 6 a^{2} b^{4} - 2 b^{6}}$"
      ],
      "text/plain": [
       "-S*a**2*b**2/(2*a**6 - 6*a**4*b**2 + 6*a**2*b**4 - 2*b**6)"
      ]
     },
     "metadata": {},
     "output_type": "display_data"
    },
    {
     "data": {
      "text/latex": [
       "$\\displaystyle \\frac{S a^{4} b^{4} \\left(a^{2} + b^{2}\\right)}{4 \\left(a^{6} - 3 a^{4} b^{2} + 3 a^{2} b^{4} - b^{6}\\right)}$"
      ],
      "text/plain": [
       "S*a**4*b**4*(a**2 + b**2)/(4*(a**6 - 3*a**4*b**2 + 3*a**2*b**4 - b**6))"
      ]
     },
     "metadata": {},
     "output_type": "display_data"
    },
    {
     "data": {
      "text/latex": [
       "$\\displaystyle - \\frac{S a^{2} b^{2} \\left(a^{4} + a^{2} b^{2} + b^{4}\\right)}{2 a^{6} - 6 a^{4} b^{2} + 6 a^{2} b^{4} - 2 b^{6}}$"
      ],
      "text/plain": [
       "-S*a**2*b**2*(a**4 + a**2*b**2 + b**4)/(2*a**6 - 6*a**4*b**2 + 6*a**2*b**4 - 2*b**6)"
      ]
     },
     "metadata": {},
     "output_type": "display_data"
    }
   ],
   "source": [
    "Asoln = soln[0]\n",
    "Bsoln = soln[1]\n",
    "Csoln = soln[2]\n",
    "Dsoln = soln[3]\n",
    "\n",
    "display(Asoln, Bsoln, Csoln, Dsoln)"
   ]
  },
  {
   "cell_type": "code",
   "execution_count": 21,
   "metadata": {},
   "outputs": [
    {
     "data": {
      "text/latex": [
       "$\\displaystyle - \\frac{S}{4}$"
      ],
      "text/plain": [
       "-S/4"
      ]
     },
     "metadata": {},
     "output_type": "display_data"
    },
    {
     "data": {
      "text/latex": [
       "$\\displaystyle 0$"
      ],
      "text/plain": [
       "0"
      ]
     },
     "metadata": {},
     "output_type": "display_data"
    },
    {
     "data": {
      "text/latex": [
       "$\\displaystyle - \\frac{S a^{4}}{4}$"
      ],
      "text/plain": [
       "-S*a**4/4"
      ]
     },
     "metadata": {},
     "output_type": "display_data"
    },
    {
     "data": {
      "text/latex": [
       "$\\displaystyle \\frac{S a^{2}}{2}$"
      ],
      "text/plain": [
       "S*a**2/2"
      ]
     },
     "metadata": {},
     "output_type": "display_data"
    }
   ],
   "source": [
    "Asoln_lim = limit(Asoln,b,oo)\n",
    "Bsoln_lim = limit(Bsoln,b,oo)\n",
    "Csoln_lim = limit(Csoln,b,oo)\n",
    "Dsoln_lim = limit(Dsoln,b,oo)\n",
    "\n",
    "display(Asoln_lim, Bsoln_lim, Csoln_lim, Dsoln_lim)"
   ]
  },
  {
   "cell_type": "code",
   "execution_count": 22,
   "metadata": {},
   "outputs": [
    {
     "data": {
      "text/latex": [
       "$\\displaystyle \\left(\\frac{3 S a^{4}}{2 r^{4}} - \\frac{2 S a^{2}}{r^{2}} + \\frac{S}{2}\\right) \\cos{\\left(2 \\theta \\right)}$"
      ],
      "text/plain": [
       "(3*S*a**4/(2*r**4) - 2*S*a**2/r**2 + S/2)*cos(2*theta)"
      ]
     },
     "metadata": {},
     "output_type": "display_data"
    },
    {
     "data": {
      "text/latex": [
       "$\\displaystyle \\frac{2 \\left(- \\frac{3 S a^{4}}{4} - \\frac{S r^{4}}{4}\\right) \\cos{\\left(2 \\theta \\right)}}{r^{4}}$"
      ],
      "text/plain": [
       "2*(-3*S*a**4/4 - S*r**4/4)*cos(2*theta)/r**4"
      ]
     },
     "metadata": {},
     "output_type": "display_data"
    },
    {
     "data": {
      "text/latex": [
       "$\\displaystyle \\left(\\frac{3 S a^{4}}{2 r^{4}} - \\frac{S a^{2}}{r^{2}} - \\frac{S}{2}\\right) \\sin{\\left(2 \\theta \\right)}$"
      ],
      "text/plain": [
       "(3*S*a**4/(2*r**4) - S*a**2/r**2 - S/2)*sin(2*theta)"
      ]
     },
     "metadata": {},
     "output_type": "display_data"
    }
   ],
   "source": [
    "sigmarr2_lim = sigmarr2.subs([(A,Asoln_lim),(B,Bsoln_lim),(C,Csoln_lim),(D,Dsoln_lim)])\n",
    "sigmatt2_lim = sigmatt2.subs([(A,Asoln_lim),(B,Bsoln_lim),(C,Csoln_lim),(D,Dsoln_lim)])\n",
    "sigmart2_lim = sigmart2.subs([(A,Asoln_lim),(B,Bsoln_lim),(C,Csoln_lim),(D,Dsoln_lim)])\n",
    "display(sigmarr2_lim)\n",
    "display(sigmatt2_lim)\n",
    "display(sigmart2_lim)"
   ]
  },
  {
   "cell_type": "markdown",
   "metadata": {},
   "source": [
    "Finally, we combine the solutions of Problems 1 and 2 as follows:"
   ]
  },
  {
   "cell_type": "code",
   "execution_count": 23,
   "metadata": {},
   "outputs": [
    {
     "data": {
      "text/latex": [
       "$\\displaystyle \\sigma_{rr}^{\\rm final} = \\left(\\frac{3 S a^{4}}{2 r^{4}} - \\frac{2 S a^{2}}{r^{2}} + \\frac{S}{2}\\right) \\cos{\\left(2 \\theta \\right)} + \\frac{- S a^{2} + S r^{2}}{2 r^{2}}$"
      ],
      "text/plain": [
       "<IPython.core.display.Math object>"
      ]
     },
     "metadata": {},
     "output_type": "display_data"
    },
    {
     "data": {
      "text/latex": [
       "$\\displaystyle \\sigma_{\\theta\\theta}^{\\rm final} = \\frac{S a^{2} + S r^{2}}{2 r^{2}} + \\frac{2 \\left(- \\frac{3 S a^{4}}{4} - \\frac{S r^{4}}{4}\\right) \\cos{\\left(2 \\theta \\right)}}{r^{4}}$"
      ],
      "text/plain": [
       "<IPython.core.display.Math object>"
      ]
     },
     "metadata": {},
     "output_type": "display_data"
    },
    {
     "data": {
      "text/latex": [
       "$\\displaystyle \\sigma_{r\\theta}^{\\rm final} = \\left(\\frac{3 S a^{4}}{2 r^{4}} - \\frac{S a^{2}}{r^{2}} - \\frac{S}{2}\\right) \\sin{\\left(2 \\theta \\right)}$"
      ],
      "text/plain": [
       "<IPython.core.display.Math object>"
      ]
     },
     "metadata": {},
     "output_type": "display_data"
    }
   ],
   "source": [
    "sigmarr_final = sigmarr1_lim + sigmarr2_lim\n",
    "sigmatt_final = sigmatt1_lim + sigmatt2_lim\n",
    "sigmart_final = 0 + sigmart2_lim\n",
    "display(Math(r'\\sigma_{{rr}}^{{\\rm final}} = {}'.format(latex(sigmarr_final))))\n",
    "display(Math(r'\\sigma_{{\\theta\\theta}}^{{\\rm final}} = {}'.format(latex(sigmatt_final))))\n",
    "display(Math(r'\\sigma_{{r\\theta}}^{{\\rm final}} = {}'.format(latex(sigmart_final))))"
   ]
  },
  {
   "cell_type": "markdown",
   "metadata": {},
   "source": [
    "These expressions of the stress components can be non-dimensionalized using the following scheme:\n",
    "\n",
    "\\begin{gather*}\n",
    "\\sigma_{rr} = \\bar{\\sigma}_{rr} S, \\quad \\sigma_{\\theta \\theta} = \\bar{\\sigma}_{\\theta\\theta} S, \\quad \\sigma_{r\\theta} = \\bar{\\sigma}_{r\\theta} S, \\\\\n",
    "r = \\bar{r} a\n",
    "\\end{gather*}\n",
    "\n",
    "Then the dimensionless stress component expressions become:\n",
    "\n",
    "\\begin{align*}\n",
    "\\bar{\\sigma}_{rr}^{\\rm final} &= \\frac{1}{2}\\left(1-\\frac{1}{\\bar{r}^2}\\right) + \\frac{1}{2}\\left(  1 + \\frac{3}{\\bar{r}^4} - \\frac{4}{\\bar{r}^2} \\right)\\cos(2\\theta) \\\\\n",
    "\\bar{\\sigma}_{\\theta\\theta}^{\\rm final} &= \\frac{1}{2}\\left(1+\\frac{1}{\\bar{r}^2}\\right) - \\frac{1}{2} \\left( 1 + \\frac{3}{\\bar{r}^4} \\right) \\cos(2\\theta) \\\\\n",
    "\\bar{\\sigma}_{r\\theta}^{\\rm final} &= -\\frac{1}{2} \\left( 1 - \\frac{3}{\\bar{r}^4} + \\frac{2}{\\bar{r}^2} \\right) \\sin (2\\theta)\n",
    "\\end{align*}"
   ]
  },
  {
   "cell_type": "markdown",
   "metadata": {},
   "source": [
    "We can visualize these dimensionless stress components in the form of surface plots as follows:"
   ]
  },
  {
   "cell_type": "code",
   "execution_count": 24,
   "metadata": {},
   "outputs": [
    {
     "data": {
      "application/javascript": [
       "/* Put everything inside the global mpl namespace */\n",
       "window.mpl = {};\n",
       "\n",
       "\n",
       "mpl.get_websocket_type = function() {\n",
       "    if (typeof(WebSocket) !== 'undefined') {\n",
       "        return WebSocket;\n",
       "    } else if (typeof(MozWebSocket) !== 'undefined') {\n",
       "        return MozWebSocket;\n",
       "    } else {\n",
       "        alert('Your browser does not have WebSocket support. ' +\n",
       "              'Please try Chrome, Safari or Firefox ≥ 6. ' +\n",
       "              'Firefox 4 and 5 are also supported but you ' +\n",
       "              'have to enable WebSockets in about:config.');\n",
       "    };\n",
       "}\n",
       "\n",
       "mpl.figure = function(figure_id, websocket, ondownload, parent_element) {\n",
       "    this.id = figure_id;\n",
       "\n",
       "    this.ws = websocket;\n",
       "\n",
       "    this.supports_binary = (this.ws.binaryType != undefined);\n",
       "\n",
       "    if (!this.supports_binary) {\n",
       "        var warnings = document.getElementById(\"mpl-warnings\");\n",
       "        if (warnings) {\n",
       "            warnings.style.display = 'block';\n",
       "            warnings.textContent = (\n",
       "                \"This browser does not support binary websocket messages. \" +\n",
       "                    \"Performance may be slow.\");\n",
       "        }\n",
       "    }\n",
       "\n",
       "    this.imageObj = new Image();\n",
       "\n",
       "    this.context = undefined;\n",
       "    this.message = undefined;\n",
       "    this.canvas = undefined;\n",
       "    this.rubberband_canvas = undefined;\n",
       "    this.rubberband_context = undefined;\n",
       "    this.format_dropdown = undefined;\n",
       "\n",
       "    this.image_mode = 'full';\n",
       "\n",
       "    this.root = $('<div/>');\n",
       "    this._root_extra_style(this.root)\n",
       "    this.root.attr('style', 'display: inline-block');\n",
       "\n",
       "    $(parent_element).append(this.root);\n",
       "\n",
       "    this._init_header(this);\n",
       "    this._init_canvas(this);\n",
       "    this._init_toolbar(this);\n",
       "\n",
       "    var fig = this;\n",
       "\n",
       "    this.waiting = false;\n",
       "\n",
       "    this.ws.onopen =  function () {\n",
       "            fig.send_message(\"supports_binary\", {value: fig.supports_binary});\n",
       "            fig.send_message(\"send_image_mode\", {});\n",
       "            if (mpl.ratio != 1) {\n",
       "                fig.send_message(\"set_dpi_ratio\", {'dpi_ratio': mpl.ratio});\n",
       "            }\n",
       "            fig.send_message(\"refresh\", {});\n",
       "        }\n",
       "\n",
       "    this.imageObj.onload = function() {\n",
       "            if (fig.image_mode == 'full') {\n",
       "                // Full images could contain transparency (where diff images\n",
       "                // almost always do), so we need to clear the canvas so that\n",
       "                // there is no ghosting.\n",
       "                fig.context.clearRect(0, 0, fig.canvas.width, fig.canvas.height);\n",
       "            }\n",
       "            fig.context.drawImage(fig.imageObj, 0, 0);\n",
       "        };\n",
       "\n",
       "    this.imageObj.onunload = function() {\n",
       "        fig.ws.close();\n",
       "    }\n",
       "\n",
       "    this.ws.onmessage = this._make_on_message_function(this);\n",
       "\n",
       "    this.ondownload = ondownload;\n",
       "}\n",
       "\n",
       "mpl.figure.prototype._init_header = function() {\n",
       "    var titlebar = $(\n",
       "        '<div class=\"ui-dialog-titlebar ui-widget-header ui-corner-all ' +\n",
       "        'ui-helper-clearfix\"/>');\n",
       "    var titletext = $(\n",
       "        '<div class=\"ui-dialog-title\" style=\"width: 100%; ' +\n",
       "        'text-align: center; padding: 3px;\"/>');\n",
       "    titlebar.append(titletext)\n",
       "    this.root.append(titlebar);\n",
       "    this.header = titletext[0];\n",
       "}\n",
       "\n",
       "\n",
       "\n",
       "mpl.figure.prototype._canvas_extra_style = function(canvas_div) {\n",
       "\n",
       "}\n",
       "\n",
       "\n",
       "mpl.figure.prototype._root_extra_style = function(canvas_div) {\n",
       "\n",
       "}\n",
       "\n",
       "mpl.figure.prototype._init_canvas = function() {\n",
       "    var fig = this;\n",
       "\n",
       "    var canvas_div = $('<div/>');\n",
       "\n",
       "    canvas_div.attr('style', 'position: relative; clear: both; outline: 0');\n",
       "\n",
       "    function canvas_keyboard_event(event) {\n",
       "        return fig.key_event(event, event['data']);\n",
       "    }\n",
       "\n",
       "    canvas_div.keydown('key_press', canvas_keyboard_event);\n",
       "    canvas_div.keyup('key_release', canvas_keyboard_event);\n",
       "    this.canvas_div = canvas_div\n",
       "    this._canvas_extra_style(canvas_div)\n",
       "    this.root.append(canvas_div);\n",
       "\n",
       "    var canvas = $('<canvas/>');\n",
       "    canvas.addClass('mpl-canvas');\n",
       "    canvas.attr('style', \"left: 0; top: 0; z-index: 0; outline: 0\")\n",
       "\n",
       "    this.canvas = canvas[0];\n",
       "    this.context = canvas[0].getContext(\"2d\");\n",
       "\n",
       "    var backingStore = this.context.backingStorePixelRatio ||\n",
       "\tthis.context.webkitBackingStorePixelRatio ||\n",
       "\tthis.context.mozBackingStorePixelRatio ||\n",
       "\tthis.context.msBackingStorePixelRatio ||\n",
       "\tthis.context.oBackingStorePixelRatio ||\n",
       "\tthis.context.backingStorePixelRatio || 1;\n",
       "\n",
       "    mpl.ratio = (window.devicePixelRatio || 1) / backingStore;\n",
       "\n",
       "    var rubberband = $('<canvas/>');\n",
       "    rubberband.attr('style', \"position: absolute; left: 0; top: 0; z-index: 1;\")\n",
       "\n",
       "    var pass_mouse_events = true;\n",
       "\n",
       "    canvas_div.resizable({\n",
       "        start: function(event, ui) {\n",
       "            pass_mouse_events = false;\n",
       "        },\n",
       "        resize: function(event, ui) {\n",
       "            fig.request_resize(ui.size.width, ui.size.height);\n",
       "        },\n",
       "        stop: function(event, ui) {\n",
       "            pass_mouse_events = true;\n",
       "            fig.request_resize(ui.size.width, ui.size.height);\n",
       "        },\n",
       "    });\n",
       "\n",
       "    function mouse_event_fn(event) {\n",
       "        if (pass_mouse_events)\n",
       "            return fig.mouse_event(event, event['data']);\n",
       "    }\n",
       "\n",
       "    rubberband.mousedown('button_press', mouse_event_fn);\n",
       "    rubberband.mouseup('button_release', mouse_event_fn);\n",
       "    // Throttle sequential mouse events to 1 every 20ms.\n",
       "    rubberband.mousemove('motion_notify', mouse_event_fn);\n",
       "\n",
       "    rubberband.mouseenter('figure_enter', mouse_event_fn);\n",
       "    rubberband.mouseleave('figure_leave', mouse_event_fn);\n",
       "\n",
       "    canvas_div.on(\"wheel\", function (event) {\n",
       "        event = event.originalEvent;\n",
       "        event['data'] = 'scroll'\n",
       "        if (event.deltaY < 0) {\n",
       "            event.step = 1;\n",
       "        } else {\n",
       "            event.step = -1;\n",
       "        }\n",
       "        mouse_event_fn(event);\n",
       "    });\n",
       "\n",
       "    canvas_div.append(canvas);\n",
       "    canvas_div.append(rubberband);\n",
       "\n",
       "    this.rubberband = rubberband;\n",
       "    this.rubberband_canvas = rubberband[0];\n",
       "    this.rubberband_context = rubberband[0].getContext(\"2d\");\n",
       "    this.rubberband_context.strokeStyle = \"#000000\";\n",
       "\n",
       "    this._resize_canvas = function(width, height) {\n",
       "        // Keep the size of the canvas, canvas container, and rubber band\n",
       "        // canvas in synch.\n",
       "        canvas_div.css('width', width)\n",
       "        canvas_div.css('height', height)\n",
       "\n",
       "        canvas.attr('width', width * mpl.ratio);\n",
       "        canvas.attr('height', height * mpl.ratio);\n",
       "        canvas.attr('style', 'width: ' + width + 'px; height: ' + height + 'px;');\n",
       "\n",
       "        rubberband.attr('width', width);\n",
       "        rubberband.attr('height', height);\n",
       "    }\n",
       "\n",
       "    // Set the figure to an initial 600x600px, this will subsequently be updated\n",
       "    // upon first draw.\n",
       "    this._resize_canvas(600, 600);\n",
       "\n",
       "    // Disable right mouse context menu.\n",
       "    $(this.rubberband_canvas).bind(\"contextmenu\",function(e){\n",
       "        return false;\n",
       "    });\n",
       "\n",
       "    function set_focus () {\n",
       "        canvas.focus();\n",
       "        canvas_div.focus();\n",
       "    }\n",
       "\n",
       "    window.setTimeout(set_focus, 100);\n",
       "}\n",
       "\n",
       "mpl.figure.prototype._init_toolbar = function() {\n",
       "    var fig = this;\n",
       "\n",
       "    var nav_element = $('<div/>');\n",
       "    nav_element.attr('style', 'width: 100%');\n",
       "    this.root.append(nav_element);\n",
       "\n",
       "    // Define a callback function for later on.\n",
       "    function toolbar_event(event) {\n",
       "        return fig.toolbar_button_onclick(event['data']);\n",
       "    }\n",
       "    function toolbar_mouse_event(event) {\n",
       "        return fig.toolbar_button_onmouseover(event['data']);\n",
       "    }\n",
       "\n",
       "    for(var toolbar_ind in mpl.toolbar_items) {\n",
       "        var name = mpl.toolbar_items[toolbar_ind][0];\n",
       "        var tooltip = mpl.toolbar_items[toolbar_ind][1];\n",
       "        var image = mpl.toolbar_items[toolbar_ind][2];\n",
       "        var method_name = mpl.toolbar_items[toolbar_ind][3];\n",
       "\n",
       "        if (!name) {\n",
       "            // put a spacer in here.\n",
       "            continue;\n",
       "        }\n",
       "        var button = $('<button/>');\n",
       "        button.addClass('ui-button ui-widget ui-state-default ui-corner-all ' +\n",
       "                        'ui-button-icon-only');\n",
       "        button.attr('role', 'button');\n",
       "        button.attr('aria-disabled', 'false');\n",
       "        button.click(method_name, toolbar_event);\n",
       "        button.mouseover(tooltip, toolbar_mouse_event);\n",
       "\n",
       "        var icon_img = $('<span/>');\n",
       "        icon_img.addClass('ui-button-icon-primary ui-icon');\n",
       "        icon_img.addClass(image);\n",
       "        icon_img.addClass('ui-corner-all');\n",
       "\n",
       "        var tooltip_span = $('<span/>');\n",
       "        tooltip_span.addClass('ui-button-text');\n",
       "        tooltip_span.html(tooltip);\n",
       "\n",
       "        button.append(icon_img);\n",
       "        button.append(tooltip_span);\n",
       "\n",
       "        nav_element.append(button);\n",
       "    }\n",
       "\n",
       "    var fmt_picker_span = $('<span/>');\n",
       "\n",
       "    var fmt_picker = $('<select/>');\n",
       "    fmt_picker.addClass('mpl-toolbar-option ui-widget ui-widget-content');\n",
       "    fmt_picker_span.append(fmt_picker);\n",
       "    nav_element.append(fmt_picker_span);\n",
       "    this.format_dropdown = fmt_picker[0];\n",
       "\n",
       "    for (var ind in mpl.extensions) {\n",
       "        var fmt = mpl.extensions[ind];\n",
       "        var option = $(\n",
       "            '<option/>', {selected: fmt === mpl.default_extension}).html(fmt);\n",
       "        fmt_picker.append(option);\n",
       "    }\n",
       "\n",
       "    // Add hover states to the ui-buttons\n",
       "    $( \".ui-button\" ).hover(\n",
       "        function() { $(this).addClass(\"ui-state-hover\");},\n",
       "        function() { $(this).removeClass(\"ui-state-hover\");}\n",
       "    );\n",
       "\n",
       "    var status_bar = $('<span class=\"mpl-message\"/>');\n",
       "    nav_element.append(status_bar);\n",
       "    this.message = status_bar[0];\n",
       "}\n",
       "\n",
       "mpl.figure.prototype.request_resize = function(x_pixels, y_pixels) {\n",
       "    // Request matplotlib to resize the figure. Matplotlib will then trigger a resize in the client,\n",
       "    // which will in turn request a refresh of the image.\n",
       "    this.send_message('resize', {'width': x_pixels, 'height': y_pixels});\n",
       "}\n",
       "\n",
       "mpl.figure.prototype.send_message = function(type, properties) {\n",
       "    properties['type'] = type;\n",
       "    properties['figure_id'] = this.id;\n",
       "    this.ws.send(JSON.stringify(properties));\n",
       "}\n",
       "\n",
       "mpl.figure.prototype.send_draw_message = function() {\n",
       "    if (!this.waiting) {\n",
       "        this.waiting = true;\n",
       "        this.ws.send(JSON.stringify({type: \"draw\", figure_id: this.id}));\n",
       "    }\n",
       "}\n",
       "\n",
       "\n",
       "mpl.figure.prototype.handle_save = function(fig, msg) {\n",
       "    var format_dropdown = fig.format_dropdown;\n",
       "    var format = format_dropdown.options[format_dropdown.selectedIndex].value;\n",
       "    fig.ondownload(fig, format);\n",
       "}\n",
       "\n",
       "\n",
       "mpl.figure.prototype.handle_resize = function(fig, msg) {\n",
       "    var size = msg['size'];\n",
       "    if (size[0] != fig.canvas.width || size[1] != fig.canvas.height) {\n",
       "        fig._resize_canvas(size[0], size[1]);\n",
       "        fig.send_message(\"refresh\", {});\n",
       "    };\n",
       "}\n",
       "\n",
       "mpl.figure.prototype.handle_rubberband = function(fig, msg) {\n",
       "    var x0 = msg['x0'] / mpl.ratio;\n",
       "    var y0 = (fig.canvas.height - msg['y0']) / mpl.ratio;\n",
       "    var x1 = msg['x1'] / mpl.ratio;\n",
       "    var y1 = (fig.canvas.height - msg['y1']) / mpl.ratio;\n",
       "    x0 = Math.floor(x0) + 0.5;\n",
       "    y0 = Math.floor(y0) + 0.5;\n",
       "    x1 = Math.floor(x1) + 0.5;\n",
       "    y1 = Math.floor(y1) + 0.5;\n",
       "    var min_x = Math.min(x0, x1);\n",
       "    var min_y = Math.min(y0, y1);\n",
       "    var width = Math.abs(x1 - x0);\n",
       "    var height = Math.abs(y1 - y0);\n",
       "\n",
       "    fig.rubberband_context.clearRect(\n",
       "        0, 0, fig.canvas.width, fig.canvas.height);\n",
       "\n",
       "    fig.rubberband_context.strokeRect(min_x, min_y, width, height);\n",
       "}\n",
       "\n",
       "mpl.figure.prototype.handle_figure_label = function(fig, msg) {\n",
       "    // Updates the figure title.\n",
       "    fig.header.textContent = msg['label'];\n",
       "}\n",
       "\n",
       "mpl.figure.prototype.handle_cursor = function(fig, msg) {\n",
       "    var cursor = msg['cursor'];\n",
       "    switch(cursor)\n",
       "    {\n",
       "    case 0:\n",
       "        cursor = 'pointer';\n",
       "        break;\n",
       "    case 1:\n",
       "        cursor = 'default';\n",
       "        break;\n",
       "    case 2:\n",
       "        cursor = 'crosshair';\n",
       "        break;\n",
       "    case 3:\n",
       "        cursor = 'move';\n",
       "        break;\n",
       "    }\n",
       "    fig.rubberband_canvas.style.cursor = cursor;\n",
       "}\n",
       "\n",
       "mpl.figure.prototype.handle_message = function(fig, msg) {\n",
       "    fig.message.textContent = msg['message'];\n",
       "}\n",
       "\n",
       "mpl.figure.prototype.handle_draw = function(fig, msg) {\n",
       "    // Request the server to send over a new figure.\n",
       "    fig.send_draw_message();\n",
       "}\n",
       "\n",
       "mpl.figure.prototype.handle_image_mode = function(fig, msg) {\n",
       "    fig.image_mode = msg['mode'];\n",
       "}\n",
       "\n",
       "mpl.figure.prototype.updated_canvas_event = function() {\n",
       "    // Called whenever the canvas gets updated.\n",
       "    this.send_message(\"ack\", {});\n",
       "}\n",
       "\n",
       "// A function to construct a web socket function for onmessage handling.\n",
       "// Called in the figure constructor.\n",
       "mpl.figure.prototype._make_on_message_function = function(fig) {\n",
       "    return function socket_on_message(evt) {\n",
       "        if (evt.data instanceof Blob) {\n",
       "            /* FIXME: We get \"Resource interpreted as Image but\n",
       "             * transferred with MIME type text/plain:\" errors on\n",
       "             * Chrome.  But how to set the MIME type?  It doesn't seem\n",
       "             * to be part of the websocket stream */\n",
       "            evt.data.type = \"image/png\";\n",
       "\n",
       "            /* Free the memory for the previous frames */\n",
       "            if (fig.imageObj.src) {\n",
       "                (window.URL || window.webkitURL).revokeObjectURL(\n",
       "                    fig.imageObj.src);\n",
       "            }\n",
       "\n",
       "            fig.imageObj.src = (window.URL || window.webkitURL).createObjectURL(\n",
       "                evt.data);\n",
       "            fig.updated_canvas_event();\n",
       "            fig.waiting = false;\n",
       "            return;\n",
       "        }\n",
       "        else if (typeof evt.data === 'string' && evt.data.slice(0, 21) == \"data:image/png;base64\") {\n",
       "            fig.imageObj.src = evt.data;\n",
       "            fig.updated_canvas_event();\n",
       "            fig.waiting = false;\n",
       "            return;\n",
       "        }\n",
       "\n",
       "        var msg = JSON.parse(evt.data);\n",
       "        var msg_type = msg['type'];\n",
       "\n",
       "        // Call the  \"handle_{type}\" callback, which takes\n",
       "        // the figure and JSON message as its only arguments.\n",
       "        try {\n",
       "            var callback = fig[\"handle_\" + msg_type];\n",
       "        } catch (e) {\n",
       "            console.log(\"No handler for the '\" + msg_type + \"' message type: \", msg);\n",
       "            return;\n",
       "        }\n",
       "\n",
       "        if (callback) {\n",
       "            try {\n",
       "                // console.log(\"Handling '\" + msg_type + \"' message: \", msg);\n",
       "                callback(fig, msg);\n",
       "            } catch (e) {\n",
       "                console.log(\"Exception inside the 'handler_\" + msg_type + \"' callback:\", e, e.stack, msg);\n",
       "            }\n",
       "        }\n",
       "    };\n",
       "}\n",
       "\n",
       "// from http://stackoverflow.com/questions/1114465/getting-mouse-location-in-canvas\n",
       "mpl.findpos = function(e) {\n",
       "    //this section is from http://www.quirksmode.org/js/events_properties.html\n",
       "    var targ;\n",
       "    if (!e)\n",
       "        e = window.event;\n",
       "    if (e.target)\n",
       "        targ = e.target;\n",
       "    else if (e.srcElement)\n",
       "        targ = e.srcElement;\n",
       "    if (targ.nodeType == 3) // defeat Safari bug\n",
       "        targ = targ.parentNode;\n",
       "\n",
       "    // jQuery normalizes the pageX and pageY\n",
       "    // pageX,Y are the mouse positions relative to the document\n",
       "    // offset() returns the position of the element relative to the document\n",
       "    var x = e.pageX - $(targ).offset().left;\n",
       "    var y = e.pageY - $(targ).offset().top;\n",
       "\n",
       "    return {\"x\": x, \"y\": y};\n",
       "};\n",
       "\n",
       "/*\n",
       " * return a copy of an object with only non-object keys\n",
       " * we need this to avoid circular references\n",
       " * http://stackoverflow.com/a/24161582/3208463\n",
       " */\n",
       "function simpleKeys (original) {\n",
       "  return Object.keys(original).reduce(function (obj, key) {\n",
       "    if (typeof original[key] !== 'object')\n",
       "        obj[key] = original[key]\n",
       "    return obj;\n",
       "  }, {});\n",
       "}\n",
       "\n",
       "mpl.figure.prototype.mouse_event = function(event, name) {\n",
       "    var canvas_pos = mpl.findpos(event)\n",
       "\n",
       "    if (name === 'button_press')\n",
       "    {\n",
       "        this.canvas.focus();\n",
       "        this.canvas_div.focus();\n",
       "    }\n",
       "\n",
       "    var x = canvas_pos.x * mpl.ratio;\n",
       "    var y = canvas_pos.y * mpl.ratio;\n",
       "\n",
       "    this.send_message(name, {x: x, y: y, button: event.button,\n",
       "                             step: event.step,\n",
       "                             guiEvent: simpleKeys(event)});\n",
       "\n",
       "    /* This prevents the web browser from automatically changing to\n",
       "     * the text insertion cursor when the button is pressed.  We want\n",
       "     * to control all of the cursor setting manually through the\n",
       "     * 'cursor' event from matplotlib */\n",
       "    event.preventDefault();\n",
       "    return false;\n",
       "}\n",
       "\n",
       "mpl.figure.prototype._key_event_extra = function(event, name) {\n",
       "    // Handle any extra behaviour associated with a key event\n",
       "}\n",
       "\n",
       "mpl.figure.prototype.key_event = function(event, name) {\n",
       "\n",
       "    // Prevent repeat events\n",
       "    if (name == 'key_press')\n",
       "    {\n",
       "        if (event.which === this._key)\n",
       "            return;\n",
       "        else\n",
       "            this._key = event.which;\n",
       "    }\n",
       "    if (name == 'key_release')\n",
       "        this._key = null;\n",
       "\n",
       "    var value = '';\n",
       "    if (event.ctrlKey && event.which != 17)\n",
       "        value += \"ctrl+\";\n",
       "    if (event.altKey && event.which != 18)\n",
       "        value += \"alt+\";\n",
       "    if (event.shiftKey && event.which != 16)\n",
       "        value += \"shift+\";\n",
       "\n",
       "    value += 'k';\n",
       "    value += event.which.toString();\n",
       "\n",
       "    this._key_event_extra(event, name);\n",
       "\n",
       "    this.send_message(name, {key: value,\n",
       "                             guiEvent: simpleKeys(event)});\n",
       "    return false;\n",
       "}\n",
       "\n",
       "mpl.figure.prototype.toolbar_button_onclick = function(name) {\n",
       "    if (name == 'download') {\n",
       "        this.handle_save(this, null);\n",
       "    } else {\n",
       "        this.send_message(\"toolbar_button\", {name: name});\n",
       "    }\n",
       "};\n",
       "\n",
       "mpl.figure.prototype.toolbar_button_onmouseover = function(tooltip) {\n",
       "    this.message.textContent = tooltip;\n",
       "};\n",
       "mpl.toolbar_items = [[\"Home\", \"Reset original view\", \"fa fa-home icon-home\", \"home\"], [\"Back\", \"Back to previous view\", \"fa fa-arrow-left icon-arrow-left\", \"back\"], [\"Forward\", \"Forward to next view\", \"fa fa-arrow-right icon-arrow-right\", \"forward\"], [\"\", \"\", \"\", \"\"], [\"Pan\", \"Pan axes with left mouse, zoom with right\", \"fa fa-arrows icon-move\", \"pan\"], [\"Zoom\", \"Zoom to rectangle\", \"fa fa-square-o icon-check-empty\", \"zoom\"], [\"\", \"\", \"\", \"\"], [\"Download\", \"Download plot\", \"fa fa-floppy-o icon-save\", \"download\"]];\n",
       "\n",
       "mpl.extensions = [\"eps\", \"jpeg\", \"pdf\", \"png\", \"ps\", \"raw\", \"svg\", \"tif\"];\n",
       "\n",
       "mpl.default_extension = \"png\";var comm_websocket_adapter = function(comm) {\n",
       "    // Create a \"websocket\"-like object which calls the given IPython comm\n",
       "    // object with the appropriate methods. Currently this is a non binary\n",
       "    // socket, so there is still some room for performance tuning.\n",
       "    var ws = {};\n",
       "\n",
       "    ws.close = function() {\n",
       "        comm.close()\n",
       "    };\n",
       "    ws.send = function(m) {\n",
       "        //console.log('sending', m);\n",
       "        comm.send(m);\n",
       "    };\n",
       "    // Register the callback with on_msg.\n",
       "    comm.on_msg(function(msg) {\n",
       "        //console.log('receiving', msg['content']['data'], msg);\n",
       "        // Pass the mpl event to the overridden (by mpl) onmessage function.\n",
       "        ws.onmessage(msg['content']['data'])\n",
       "    });\n",
       "    return ws;\n",
       "}\n",
       "\n",
       "mpl.mpl_figure_comm = function(comm, msg) {\n",
       "    // This is the function which gets called when the mpl process\n",
       "    // starts-up an IPython Comm through the \"matplotlib\" channel.\n",
       "\n",
       "    var id = msg.content.data.id;\n",
       "    // Get hold of the div created by the display call when the Comm\n",
       "    // socket was opened in Python.\n",
       "    var element = $(\"#\" + id);\n",
       "    var ws_proxy = comm_websocket_adapter(comm)\n",
       "\n",
       "    function ondownload(figure, format) {\n",
       "        window.open(figure.imageObj.src);\n",
       "    }\n",
       "\n",
       "    var fig = new mpl.figure(id, ws_proxy,\n",
       "                           ondownload,\n",
       "                           element.get(0));\n",
       "\n",
       "    // Call onopen now - mpl needs it, as it is assuming we've passed it a real\n",
       "    // web socket which is closed, not our websocket->open comm proxy.\n",
       "    ws_proxy.onopen();\n",
       "\n",
       "    fig.parent_element = element.get(0);\n",
       "    fig.cell_info = mpl.find_output_cell(\"<div id='\" + id + \"'></div>\");\n",
       "    if (!fig.cell_info) {\n",
       "        console.error(\"Failed to find cell for figure\", id, fig);\n",
       "        return;\n",
       "    }\n",
       "\n",
       "    var output_index = fig.cell_info[2]\n",
       "    var cell = fig.cell_info[0];\n",
       "\n",
       "};\n",
       "\n",
       "mpl.figure.prototype.handle_close = function(fig, msg) {\n",
       "    var width = fig.canvas.width/mpl.ratio\n",
       "    fig.root.unbind('remove')\n",
       "\n",
       "    // Update the output cell to use the data from the current canvas.\n",
       "    fig.push_to_output();\n",
       "    var dataURL = fig.canvas.toDataURL();\n",
       "    // Re-enable the keyboard manager in IPython - without this line, in FF,\n",
       "    // the notebook keyboard shortcuts fail.\n",
       "    IPython.keyboard_manager.enable()\n",
       "    $(fig.parent_element).html('<img src=\"' + dataURL + '\" width=\"' + width + '\">');\n",
       "    fig.close_ws(fig, msg);\n",
       "}\n",
       "\n",
       "mpl.figure.prototype.close_ws = function(fig, msg){\n",
       "    fig.send_message('closing', msg);\n",
       "    // fig.ws.close()\n",
       "}\n",
       "\n",
       "mpl.figure.prototype.push_to_output = function(remove_interactive) {\n",
       "    // Turn the data on the canvas into data in the output cell.\n",
       "    var width = this.canvas.width/mpl.ratio\n",
       "    var dataURL = this.canvas.toDataURL();\n",
       "    this.cell_info[1]['text/html'] = '<img src=\"' + dataURL + '\" width=\"' + width + '\">';\n",
       "}\n",
       "\n",
       "mpl.figure.prototype.updated_canvas_event = function() {\n",
       "    // Tell IPython that the notebook contents must change.\n",
       "    IPython.notebook.set_dirty(true);\n",
       "    this.send_message(\"ack\", {});\n",
       "    var fig = this;\n",
       "    // Wait a second, then push the new image to the DOM so\n",
       "    // that it is saved nicely (might be nice to debounce this).\n",
       "    setTimeout(function () { fig.push_to_output() }, 1000);\n",
       "}\n",
       "\n",
       "mpl.figure.prototype._init_toolbar = function() {\n",
       "    var fig = this;\n",
       "\n",
       "    var nav_element = $('<div/>');\n",
       "    nav_element.attr('style', 'width: 100%');\n",
       "    this.root.append(nav_element);\n",
       "\n",
       "    // Define a callback function for later on.\n",
       "    function toolbar_event(event) {\n",
       "        return fig.toolbar_button_onclick(event['data']);\n",
       "    }\n",
       "    function toolbar_mouse_event(event) {\n",
       "        return fig.toolbar_button_onmouseover(event['data']);\n",
       "    }\n",
       "\n",
       "    for(var toolbar_ind in mpl.toolbar_items){\n",
       "        var name = mpl.toolbar_items[toolbar_ind][0];\n",
       "        var tooltip = mpl.toolbar_items[toolbar_ind][1];\n",
       "        var image = mpl.toolbar_items[toolbar_ind][2];\n",
       "        var method_name = mpl.toolbar_items[toolbar_ind][3];\n",
       "\n",
       "        if (!name) { continue; };\n",
       "\n",
       "        var button = $('<button class=\"btn btn-default\" href=\"#\" title=\"' + name + '\"><i class=\"fa ' + image + ' fa-lg\"></i></button>');\n",
       "        button.click(method_name, toolbar_event);\n",
       "        button.mouseover(tooltip, toolbar_mouse_event);\n",
       "        nav_element.append(button);\n",
       "    }\n",
       "\n",
       "    // Add the status bar.\n",
       "    var status_bar = $('<span class=\"mpl-message\" style=\"text-align:right; float: right;\"/>');\n",
       "    nav_element.append(status_bar);\n",
       "    this.message = status_bar[0];\n",
       "\n",
       "    // Add the close button to the window.\n",
       "    var buttongrp = $('<div class=\"btn-group inline pull-right\"></div>');\n",
       "    var button = $('<button class=\"btn btn-mini btn-primary\" href=\"#\" title=\"Stop Interaction\"><i class=\"fa fa-power-off icon-remove icon-large\"></i></button>');\n",
       "    button.click(function (evt) { fig.handle_close(fig, {}); } );\n",
       "    button.mouseover('Stop Interaction', toolbar_mouse_event);\n",
       "    buttongrp.append(button);\n",
       "    var titlebar = this.root.find($('.ui-dialog-titlebar'));\n",
       "    titlebar.prepend(buttongrp);\n",
       "}\n",
       "\n",
       "mpl.figure.prototype._root_extra_style = function(el){\n",
       "    var fig = this\n",
       "    el.on(\"remove\", function(){\n",
       "\tfig.close_ws(fig, {});\n",
       "    });\n",
       "}\n",
       "\n",
       "mpl.figure.prototype._canvas_extra_style = function(el){\n",
       "    // this is important to make the div 'focusable\n",
       "    el.attr('tabindex', 0)\n",
       "    // reach out to IPython and tell the keyboard manager to turn it's self\n",
       "    // off when our div gets focus\n",
       "\n",
       "    // location in version 3\n",
       "    if (IPython.notebook.keyboard_manager) {\n",
       "        IPython.notebook.keyboard_manager.register_events(el);\n",
       "    }\n",
       "    else {\n",
       "        // location in version 2\n",
       "        IPython.keyboard_manager.register_events(el);\n",
       "    }\n",
       "\n",
       "}\n",
       "\n",
       "mpl.figure.prototype._key_event_extra = function(event, name) {\n",
       "    var manager = IPython.notebook.keyboard_manager;\n",
       "    if (!manager)\n",
       "        manager = IPython.keyboard_manager;\n",
       "\n",
       "    // Check for shift+enter\n",
       "    if (event.shiftKey && event.which == 13) {\n",
       "        this.canvas_div.blur();\n",
       "        event.shiftKey = false;\n",
       "        // Send a \"J\" for go to next cell\n",
       "        event.which = 74;\n",
       "        event.keyCode = 74;\n",
       "        manager.command_mode();\n",
       "        manager.handle_keydown(event);\n",
       "    }\n",
       "}\n",
       "\n",
       "mpl.figure.prototype.handle_save = function(fig, msg) {\n",
       "    fig.ondownload(fig, null);\n",
       "}\n",
       "\n",
       "\n",
       "mpl.find_output_cell = function(html_output) {\n",
       "    // Return the cell and output element which can be found *uniquely* in the notebook.\n",
       "    // Note - this is a bit hacky, but it is done because the \"notebook_saving.Notebook\"\n",
       "    // IPython event is triggered only after the cells have been serialised, which for\n",
       "    // our purposes (turning an active figure into a static one), is too late.\n",
       "    var cells = IPython.notebook.get_cells();\n",
       "    var ncells = cells.length;\n",
       "    for (var i=0; i<ncells; i++) {\n",
       "        var cell = cells[i];\n",
       "        if (cell.cell_type === 'code'){\n",
       "            for (var j=0; j<cell.output_area.outputs.length; j++) {\n",
       "                var data = cell.output_area.outputs[j];\n",
       "                if (data.data) {\n",
       "                    // IPython >= 3 moved mimebundle to data attribute of output\n",
       "                    data = data.data;\n",
       "                }\n",
       "                if (data['text/html'] == html_output) {\n",
       "                    return [cell, data, j];\n",
       "                }\n",
       "            }\n",
       "        }\n",
       "    }\n",
       "}\n",
       "\n",
       "// Register the function which deals with the matplotlib target/channel.\n",
       "// The kernel may be null if the page has been refreshed.\n",
       "if (IPython.notebook.kernel != null) {\n",
       "    IPython.notebook.kernel.comm_manager.register_target('matplotlib', mpl.mpl_figure_comm);\n",
       "}\n"
      ],
      "text/plain": [
       "<IPython.core.display.Javascript object>"
      ]
     },
     "metadata": {},
     "output_type": "display_data"
    },
    {
     "data": {
      "text/html": [
       "<img src=\"data:image/png;base64,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\" width=\"640\">"
      ],
      "text/plain": [
       "<IPython.core.display.HTML object>"
      ]
     },
     "metadata": {},
     "output_type": "display_data"
    }
   ],
   "source": [
    "%matplotlib notebook\n",
    "from mpl_toolkits.mplot3d import Axes3D\n",
    "\n",
    "import matplotlib.pyplot as plt\n",
    "import numpy as np\n",
    "\n",
    "\n",
    "fig = plt.figure()\n",
    "ax = fig.add_subplot(111, projection='3d')\n",
    "\n",
    "rbar = np.linspace(1, 5, 50)\n",
    "tbar = np.linspace(0, 2*np.pi, 50)\n",
    "R, T = np.meshgrid(rbar, tbar)\n",
    "\n",
    "sigmarr_num = -1/(2*R**2) + (1.5/R**4 - 2/R**2 + 0.5)*np.cos(2*T) + 0.5\n",
    "sigmatt_num = 0.5/R**2 + (-1.5/R**4 - 0.5)*np.cos(2*T) + 0.5\n",
    "sigmart_num = (3/(2*R**4) - 1/R**2 - 1/2)*np.sin(2*T)\n",
    "\n",
    "X, Y = R*np.cos(T), R*np.sin(T)\n",
    "\n",
    "surf = ax.plot_surface(X,Y,sigmatt_num,cmap=plt.cm.coolwarm)\n",
    "plt.colorbar(surf)\n",
    "ax.view_init(90,0)"
   ]
  },
  {
   "cell_type": "code",
   "execution_count": null,
   "metadata": {},
   "outputs": [],
   "source": []
  }
 ],
 "metadata": {
  "hide_input": false,
  "kernelspec": {
   "display_name": "Python 3",
   "language": "python",
   "name": "python3"
  },
  "language_info": {
   "codemirror_mode": {
    "name": "ipython",
    "version": 3
   },
   "file_extension": ".py",
   "mimetype": "text/x-python",
   "name": "python",
   "nbconvert_exporter": "python",
   "pygments_lexer": "ipython3",
   "version": "3.7.3"
  },
  "varInspector": {
   "cols": {
    "lenName": 16,
    "lenType": 16,
    "lenVar": 40
   },
   "kernels_config": {
    "python": {
     "delete_cmd_postfix": "",
     "delete_cmd_prefix": "del ",
     "library": "var_list.py",
     "varRefreshCmd": "print(var_dic_list())"
    },
    "r": {
     "delete_cmd_postfix": ") ",
     "delete_cmd_prefix": "rm(",
     "library": "var_list.r",
     "varRefreshCmd": "cat(var_dic_list()) "
    }
   },
   "types_to_exclude": [
    "module",
    "function",
    "builtin_function_or_method",
    "instance",
    "_Feature"
   ],
   "window_display": false
  }
 },
 "nbformat": 4,
 "nbformat_minor": 2
}
